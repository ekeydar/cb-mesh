{
 "metadata": {
  "name": "",
  "signature": "sha256:4f23ae6b7d46775d26c03adf70c115256c58746d249f921b95f764ac791f73cc"
 },
 "nbformat": 3,
 "nbformat_minor": 0,
 "worksheets": [
  {
   "cells": [
    {
     "cell_type": "markdown",
     "metadata": {},
     "source": [
      "Demo App\n",
      "===\n",
      "\n",
      "User\n",
      "----\n",
      "\n",
      "* name\n",
      "* country\n",
      "* phone\n",
      "* join date\n",
      "\n",
      "phone is unique\n",
      "\n",
      "Chat\n",
      "----\n",
      "* name\n",
      "* members\n",
      "\n",
      "user can create chats and join chats\n"
     ]
    },
    {
     "cell_type": "code",
     "collapsed": false,
     "input": [
      "import code_utils as CU\n",
      "reload(CU)\n",
      "bucket = CU.bucket\n",
      "import time\n",
      "import json\n",
      "def pp(o):\n",
      "    print json.dumps(o,indent=4)\n",
      "    "
     ],
     "language": "python",
     "metadata": {},
     "outputs": [],
     "prompt_number": 4
    },
    {
     "cell_type": "markdown",
     "metadata": {},
     "source": [
      "Some utilies we will be using:\n",
      "-----------------------------\n",
      "<code>CU.clean_all_docs() # cleans all docs </code>\n",
      "\n",
      "<code>CU.get_random_date() # returns random date in the last three years </code>\n",
      "\n",
      "<code>CU.get_random_country() # returns random country code, e.g. IL, GB </code>\n",
      "\n",
      "<code>pp() # to print nice</code>\n",
      "\n",
      "<code>bucket # is the global bucket </code>"
     ]
    },
    {
     "cell_type": "heading",
     "level": 1,
     "metadata": {},
     "source": [
      "Create User"
     ]
    },
    {
     "cell_type": "heading",
     "level": 1,
     "metadata": {},
     "source": [
      "Create users with same phone and fix"
     ]
    },
    {
     "cell_type": "heading",
     "level": 1,
     "metadata": {},
     "source": [
      "Create Chat"
     ]
    },
    {
     "cell_type": "heading",
     "level": 1,
     "metadata": {},
     "source": [
      "Join members to chat"
     ]
    },
    {
     "cell_type": "heading",
     "level": 1,
     "metadata": {},
     "source": [
      "Join in parallel - example"
     ]
    },
    {
     "cell_type": "heading",
     "level": 1,
     "metadata": {},
     "source": [
      "Fix the join"
     ]
    },
    {
     "cell_type": "markdown",
     "metadata": {},
     "source": [
      "Questions: \n",
      "-----------\n",
      "* How to find how users by country?\n",
      "* How to find how many user joined in each year and send them message?\n",
      "* How to find how many user joined in each month and send them message?\n",
      "* How to find how many user joined in each day and send them message?"
     ]
    }
   ],
   "metadata": {}
  }
 ]
}