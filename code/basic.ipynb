{
 "metadata": {
  "name": "",
  "signature": "sha256:14648a7f8602072ff6ea7ecbf930fa3c42036ebcce129fcee2e086d7d52e87a2"
 },
 "nbformat": 3,
 "nbformat_minor": 0,
 "worksheets": [
  {
   "cells": [
    {
     "cell_type": "heading",
     "level": 1,
     "metadata": {},
     "source": [
      "Couchbase Demo"
     ]
    },
    {
     "cell_type": "markdown",
     "metadata": {},
     "source": [
      "Preparations\n",
      "------------\n",
      "- install couchbase\n",
      "- create bucket\n",
      "- install couchbase C client\n",
      "- install python library"
     ]
    },
    {
     "cell_type": "markdown",
     "metadata": {},
     "source": [
      "Create a bucket using the web console\n",
      "-------------------------------------\n",
      "- Access http://localhost:8091\n",
      "- Create new bucket\n",
      "- give it a name, configure its size"
     ]
    },
    {
     "cell_type": "markdown",
     "metadata": {},
     "source": [
      "Couchbase Python\n",
      "----------------\n",
      "- new couchbase python library (2.0.2 version). Previous version was 1.2+, some backward incompatible changes\n",
      "- to install\n",
      "<pre><code>\n",
      "pip install couchbase\n",
      "</pre></code>\n",
      "- to start connection, insantiate Bucket object and specify the address using the couchbase:// scheme."
     ]
    },
    {
     "cell_type": "code",
     "collapsed": false,
     "input": [
      "import couchbase.bucket\n",
      "# bucket name is demo\n",
      "# server address is localhost\n",
      "bucket = couchbase.bucket.Bucket('couchbase://localhost/demo') \n",
      "print bucket"
     ],
     "language": "python",
     "metadata": {},
     "outputs": [
      {
       "output_type": "stream",
       "stream": "stdout",
       "text": [
        "<couchbase.bucket.Bucket bucket=demo, nodes=['localhost:8091'] at 0x7f67001e1820>\n"
       ]
      }
     ],
     "prompt_number": 4
    },
    {
     "cell_type": "markdown",
     "metadata": {},
     "source": [
      "Basic key/value operations\n",
      "--------------------------\n",
      "### Write\n",
      "\n",
      "* **insert** inserts new key, error if exists\n",
      "* ** replace** replace exiting key, error if does not exist\n",
      "* **upsert** insert or replace\n",
      "\n",
      "### Read\n",
      "- **get** gets a key\n",
      "\n",
      "### Delete\n",
      "- **delete** deletes a key\n",
      "\n",
      "### Multi versions\n",
      "\n",
      "All methods have \\_multi version for better performace"
     ]
    },
    {
     "cell_type": "code",
     "collapsed": false,
     "input": [
      "bucket.delete(\"user:1\",quiet=True) # delete to be of the safe side, otherwise an error\n",
      "bucket.insert(\"user:1\",{'name':'Eran Keydar','age':41})"
     ],
     "language": "python",
     "metadata": {},
     "outputs": [
      {
       "metadata": {},
       "output_type": "pyout",
       "prompt_number": 10,
       "text": [
        "OperationResult<RC=0x0, Key=u'user:1', CAS=0x312d2ea01f2a0000>"
       ]
      }
     ],
     "prompt_number": 10
    },
    {
     "cell_type": "code",
     "collapsed": false,
     "input": [
      "bucket.replace(\"user:1\",{'name':'Eran Keydar','age':42})"
     ],
     "language": "python",
     "metadata": {},
     "outputs": [
      {
       "metadata": {},
       "output_type": "pyout",
       "prompt_number": 7,
       "text": [
        "OperationResult<RC=0x0, Key=u'user:1', CAS=0xa3b5d291152a0000>"
       ]
      }
     ],
     "prompt_number": 7
    },
    {
     "cell_type": "code",
     "collapsed": false,
     "input": [
      "bucket.get(\"user:1\")\n",
      "bucket.get(\"user:1\").value"
     ],
     "language": "python",
     "metadata": {},
     "outputs": [
      {
       "metadata": {},
       "output_type": "pyout",
       "prompt_number": 12,
       "text": [
        "{u'age': 41, u'name': u'Eran Keydar'}"
       ]
      }
     ],
     "prompt_number": 12
    },
    {
     "cell_type": "markdown",
     "metadata": {},
     "source": [
      "Result object\n",
      "-------------\n",
      "<code>get(key)</code> returns Result object, where result.value is the actual value"
     ]
    },
    {
     "cell_type": "markdown",
     "metadata": {},
     "source": [
      "Modication Operations\n",
      "---------------------\n",
      "* counter: incr/decr integer\n",
      "* append: append to string\n",
      "* preprend: prepend to string"
     ]
    },
    {
     "cell_type": "code",
     "collapsed": false,
     "input": [
      "bucket.remove('my_counter',quiet=True)\n",
      "print bucket.counter('my_counter',initial=1,delta=1)\n",
      "print bucket.counter('my_counter',initial=1,delta=1)\n",
      "print bucket.counter('my_counter',initial=1,delta=1)\n",
      "print bucket.counter('my_counter',initial=1,delta=1)\n",
      "print bucket.counter('my_counter',initial=1,delta=-2)\n",
      "print bucket.counter('my_counter',initial=1,delta=-2)\n",
      "print bucket.counter('my_counter',initial=1,delta=-5)\n",
      "print bucket.counter('my_counter',initial=1,delta=-2)\n",
      "print bucket.counter('my_counter',initial=1,delta=-2)\n"
     ],
     "language": "python",
     "metadata": {},
     "outputs": [
      {
       "output_type": "stream",
       "stream": "stdout",
       "text": [
        "ValueResult<RC=0x0, Key=u'my_counter', Value=1L, CAS=0x19fa602f282c0000, Flags=0x0>\n",
        "ValueResult<RC=0x0, Key=u'my_counter', Value=2L, CAS=0xe3bf702f282c0000, Flags=0x0>\n",
        "ValueResult<RC=0x0, Key=u'my_counter', Value=3L, CAS=0x7234742f282c0000, Flags=0x0>\n",
        "ValueResult<RC=0x0, Key=u'my_counter', Value=4L, CAS=0xcc9a762f282c0000, Flags=0x0>\n",
        "ValueResult<RC=0x0, Key=u'my_counter', Value=2L, CAS=0x98d2792f282c0000, Flags=0x0>\n",
        "ValueResult<RC=0x0, Key=u'my_counter', Value=0L, CAS=0x45157c2f282c0000, Flags=0x0>\n",
        "ValueResult<RC=0x0, Key=u'my_counter', Value=0L, CAS=0x28307e2f282c0000, Flags=0x0>\n",
        "ValueResult<RC=0x0, Key=u'my_counter', Value=0L, CAS=0xec39802f282c0000, Flags=0x0>\n",
        "ValueResult<RC=0x0, Key=u'my_counter', Value=0L, CAS=0x5236822f282c0000, Flags=0x0>\n",
        "OperationResult<RC=0x0, Key=u'users', CAS=0x507f912f282c0000>\n"
       ]
      }
     ],
     "prompt_number": 51
    },
    {
     "cell_type": "markdown",
     "metadata": {},
     "source": [
      "append/prepend\n",
      "--------------\n",
      "Maybe used for fast insert (e.g., without reading the full list)\n"
     ]
    },
    {
     "cell_type": "code",
     "collapsed": false,
     "input": [
      "bucket.upsert('users','',format=couchbase.FMT_UTF8)\n",
      "for x in xrange(100):\n",
      "    bucket.append('users','|%s' % x)\n",
      "val = bucket.get('users',no_format=True).value\n",
      "print val\n",
      "print val.strip('|').split('|')\n",
      "\n",
      "\n"
     ],
     "language": "python",
     "metadata": {},
     "outputs": [
      {
       "output_type": "stream",
       "stream": "stdout",
       "text": [
        "|0|1|2|3|4|5|6|7|8|9|10|11|12|13|14|15|16|17|18|19|20|21|22|23|24|25|26|27|28|29|30|31|32|33|34|35|36|37|38|39|40|41|42|43|44|45|46|47|48|49|50|51|52|53|54|55|56|57|58|59|60|61|62|63|64|65|66|67|68|69|70|71|72|73|74|75|76|77|78|79|80|81|82|83|84|85|86|87|88|89|90|91|92|93|94|95|96|97|98|99\n",
        "['0', '1', '2', '3', '4', '5', '6', '7', '8', '9', '10', '11', '12', '13', '14', '15', '16', '17', '18', '19', '20', '21', '22', '23', '24', '25', '26', '27', '28', '29', '30', '31', '32', '33', '34', '35', '36', '37', '38', '39', '40', '41', '42', '43', '44', '45', '46', '47', '48', '49', '50', '51', '52', '53', '54', '55', '56', '57', '58', '59', '60', '61', '62', '63', '64', '65', '66', '67', '68', '69', '70', '71', '72', '73', '74', '75', '76', '77', '78', '79', '80', '81', '82', '83', '84', '85', '86', '87', '88', '89', '90', '91', '92', '93', '94', '95', '96', '97', '98', '99']\n"
       ]
      }
     ],
     "prompt_number": 60
    },
    {
     "cell_type": "markdown",
     "metadata": {},
     "source": [
      "TTL\n",
      "---\n",
      "write operation can specify ttl in seconds (up to 30 days) or in UNIX time"
     ]
    },
    {
     "cell_type": "code",
     "collapsed": false,
     "input": [
      "import time\n",
      "bucket.remove(\"tmp_key\",123,quiet=True)\n",
      "bucket.insert(\"tmp_key\",123,ttl=3)\n",
      "for x in xrange(10):\n",
      "    print 'Iter = %d tmp_key = %s' % (x,bucket.get(\"tmp_key\",quiet=True).value)\n",
      "    time.sleep(1)\n",
      "\n",
      "    "
     ],
     "language": "python",
     "metadata": {},
     "outputs": [
      {
       "output_type": "stream",
       "stream": "stdout",
       "text": [
        "Iter = 0 tmp_key = 123\n",
        "Iter = 1 tmp_key = 123"
       ]
      },
      {
       "output_type": "stream",
       "stream": "stdout",
       "text": [
        "\n",
        "Iter = 2 tmp_key = 123"
       ]
      },
      {
       "output_type": "stream",
       "stream": "stdout",
       "text": [
        "\n",
        "Iter = 3 tmp_key = 123"
       ]
      },
      {
       "output_type": "stream",
       "stream": "stdout",
       "text": [
        "\n",
        "Iter = 4 tmp_key = None"
       ]
      },
      {
       "output_type": "stream",
       "stream": "stdout",
       "text": [
        "\n",
        "Iter = 5 tmp_key = None"
       ]
      },
      {
       "output_type": "stream",
       "stream": "stdout",
       "text": [
        "\n",
        "Iter = 6 tmp_key = None"
       ]
      },
      {
       "output_type": "stream",
       "stream": "stdout",
       "text": [
        "\n",
        "Iter = 7 tmp_key = None"
       ]
      },
      {
       "output_type": "stream",
       "stream": "stdout",
       "text": [
        "\n",
        "Iter = 8 tmp_key = None"
       ]
      },
      {
       "output_type": "stream",
       "stream": "stdout",
       "text": [
        "\n",
        "Iter = 9 tmp_key = None"
       ]
      },
      {
       "output_type": "stream",
       "stream": "stdout",
       "text": [
        "\n"
       ]
      }
     ],
     "prompt_number": 19
    },
    {
     "cell_type": "markdown",
     "metadata": {},
     "source": [
      "Observe\n",
      "-------"
     ]
    },
    {
     "cell_type": "code",
     "collapsed": false,
     "input": [
      "key = \"user:100\"\n",
      "bucket.remove(key,quiet=True)\n",
      "bucket.insert(key,{'name':'Yossi','age':100})\n",
      "for x in xrange(3):\n",
      "    print bucket.observe(key)\n",
      "    time.sleep(1)\n"
     ],
     "language": "python",
     "metadata": {},
     "outputs": [
      {
       "output_type": "stream",
       "stream": "stdout",
       "text": [
        "ValueResult<RC=0x0, Key=u'user:100', Value=[ObserveInfo<Status=[OBS_FOUND (0x0)], Master=True, CAS=0xB2ACC9BCD12A0000>], CAS=0x0, Flags=0x0>\n",
        "ValueResult<RC=0x0, Key=u'user:100', Value=[ObserveInfo<Status=[OBS_PERSISTED (0x1)], Master=True, CAS=0xB2ACC9BCD12A0000>], CAS=0x0, Flags=0x0>"
       ]
      },
      {
       "output_type": "stream",
       "stream": "stdout",
       "text": [
        "\n",
        "ValueResult<RC=0x0, Key=u'user:100', Value=[ObserveInfo<Status=[OBS_PERSISTED (0x1)], Master=True, CAS=0xB2ACC9BCD12A0000>], CAS=0x0, Flags=0x0>"
       ]
      },
      {
       "output_type": "stream",
       "stream": "stdout",
       "text": [
        "\n"
       ]
      }
     ],
     "prompt_number": 26
    },
    {
     "cell_type": "markdown",
     "metadata": {},
     "source": [
      "CAS\n",
      "---\n",
      "When you get an object, there is CAS for it, you can use it for writing back, and then you get an error, if this object was changed.\n"
     ]
    },
    {
     "cell_type": "code",
     "collapsed": false,
     "input": [
      "u = {'name': 'Eran','score':100}\n",
      "key = 'user:100'\n",
      "bucket.remove(key,quiet=True)\n",
      "bucket.insert(key,u)\n",
      "\n",
      "def raise_score(k):\n",
      "    r = bucket.get(k)\n",
      "    u = r.value\n",
      "    #bucket.replace(k,u)\n",
      "    u['score']+=1\n",
      "    bucket.replace(k,u,cas=r.cas)\n",
      "    \n",
      "raise_score(key)\n",
      "print bucket.get(key)\n",
      "\n",
      "\n",
      "\n"
     ],
     "language": "python",
     "metadata": {},
     "outputs": [
      {
       "output_type": "stream",
       "stream": "stdout",
       "text": [
        "ValueResult<RC=0x0, Key=u'user:100', Value={u'score': 101, u'name': u'Eran'}, CAS=0x15e34f582e2b0000, Flags=0x2000000>\n"
       ]
      }
     ],
     "prompt_number": 37
    }
   ],
   "metadata": {}
  }
 ]
}