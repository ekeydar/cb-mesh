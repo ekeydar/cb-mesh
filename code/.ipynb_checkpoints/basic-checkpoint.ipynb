{
 "metadata": {
  "name": "",
  "signature": "sha256:cca9760e421132062e5d05c3ccc147278a0b8fee3367c5ba63f6c4c2465120e2"
 },
 "nbformat": 3,
 "nbformat_minor": 0,
 "worksheets": [
  {
   "cells": [
    {
     "cell_type": "heading",
     "level": 1,
     "metadata": {},
     "source": [
      "Couchbase Demo"
     ]
    },
    {
     "cell_type": "markdown",
     "metadata": {},
     "source": [
      "Preparations\n",
      "------------\n",
      "- install couchbase\n",
      "- create bucket\n",
      "- install couchbase C client\n",
      "- install python library"
     ]
    },
    {
     "cell_type": "markdown",
     "metadata": {},
     "source": [
      "Create a bucket using the web console\n",
      "-------------------------------------\n",
      "- Access http://localhost:8091\n",
      "- Create new bucket\n",
      "- give it a name, configure its size"
     ]
    },
    {
     "cell_type": "markdown",
     "metadata": {},
     "source": [
      "Couchbase Python\n",
      "----------------\n",
      "- new couchbase python library (2.0.2 version). Previous version was 1.2+, some backward incompatible changes\n",
      "- to install\n",
      "<pre><code>\n",
      "pip install couchbase\n",
      "</pre></code>\n",
      "- to start connection, insantiate Bucket object and specify the address using the couchbase:// scheme."
     ]
    },
    {
     "cell_type": "code",
     "collapsed": false,
     "input": [
      "import couchbase.bucket\n",
      "# bucket name is demo\n",
      "# server address is localhost\n",
      "bucket = couchbase.bucket.Bucket('couchbase://localhost/demo') \n",
      "print bucket"
     ],
     "language": "python",
     "metadata": {},
     "outputs": [
      {
       "output_type": "stream",
       "stream": "stdout",
       "text": [
        "<couchbase.bucket.Bucket bucket=demo, nodes=['localhost:8091'] at 0x7f67001e1820>\n"
       ]
      }
     ],
     "prompt_number": 4
    },
    {
     "cell_type": "markdown",
     "metadata": {},
     "source": [
      "Basic key/value operations\n",
      "--------------------------\n",
      "### Write\n",
      "\n",
      "- **insert** inserts new key, error if exists\n",
      "- ** replace** replace exiting key, error if does not exist\n",
      "- **upsert** insert or replace\n",
      "\n",
      "### Read\n",
      "- **get** gets a key\n",
      "\n",
      "### Delete\n",
      "- **delete** deletes a key\n",
      "\n",
      "### Multi versions\n",
      "\n",
      "All methods have \\_multi version for better performace"
     ]
    },
    {
     "cell_type": "code",
     "collapsed": false,
     "input": [
      "bucket.delete(\"user:1\",quiet=True) # delete to be of the safe side, otherwise an error\n",
      "bucket.insert(\"user:1\",{'name':'Eran Keydar','age':41})"
     ],
     "language": "python",
     "metadata": {},
     "outputs": [
      {
       "metadata": {},
       "output_type": "pyout",
       "prompt_number": 10,
       "text": [
        "OperationResult<RC=0x0, Key=u'user:1', CAS=0x312d2ea01f2a0000>"
       ]
      }
     ],
     "prompt_number": 10
    },
    {
     "cell_type": "code",
     "collapsed": false,
     "input": [
      "bucket.replace(\"user:1\",{'name':'Eran Keydar','age':42})"
     ],
     "language": "python",
     "metadata": {},
     "outputs": [
      {
       "metadata": {},
       "output_type": "pyout",
       "prompt_number": 7,
       "text": [
        "OperationResult<RC=0x0, Key=u'user:1', CAS=0xa3b5d291152a0000>"
       ]
      }
     ],
     "prompt_number": 7
    },
    {
     "cell_type": "code",
     "collapsed": false,
     "input": [
      "bucket.get(\"user:1\")\n",
      "bucket.get(\"user:1\").value"
     ],
     "language": "python",
     "metadata": {},
     "outputs": [
      {
       "metadata": {},
       "output_type": "pyout",
       "prompt_number": 12,
       "text": [
        "{u'age': 41, u'name': u'Eran Keydar'}"
       ]
      }
     ],
     "prompt_number": 12
    },
    {
     "cell_type": "markdown",
     "metadata": {},
     "source": [
      "Result object\n",
      "-------------\n",
      "<code>get(key)</code> returns Result object, where result.value is the actual value"
     ]
    },
    {
     "cell_type": "markdown",
     "metadata": {},
     "source": [
      "TTL\n",
      "---\n",
      "write operation can specify ttl in seconds (up to 30 days) or in UNIX time"
     ]
    },
    {
     "cell_type": "code",
     "collapsed": false,
     "input": [
      "import time\n",
      "bucket.remove(\"tmp_key\",123,quiet=True)\n",
      "bucket.insert(\"tmp_key\",123,ttl=3)\n",
      "for x in xrange(10):\n",
      "    print 'Iter = %d tmp_key = %s' % (x,bucket.get(\"tmp_key\",quiet=True).value)\n",
      "    time.sleep(1)\n",
      "\n",
      "    "
     ],
     "language": "python",
     "metadata": {},
     "outputs": [
      {
       "output_type": "stream",
       "stream": "stdout",
       "text": [
        "Iter = 0 tmp_key = 123\n",
        "Iter = 1 tmp_key = 123"
       ]
      },
      {
       "output_type": "stream",
       "stream": "stdout",
       "text": [
        "\n",
        "Iter = 2 tmp_key = 123"
       ]
      },
      {
       "output_type": "stream",
       "stream": "stdout",
       "text": [
        "\n",
        "Iter = 3 tmp_key = 123"
       ]
      },
      {
       "output_type": "stream",
       "stream": "stdout",
       "text": [
        "\n",
        "Iter = 4 tmp_key = None"
       ]
      },
      {
       "output_type": "stream",
       "stream": "stdout",
       "text": [
        "\n",
        "Iter = 5 tmp_key = None"
       ]
      },
      {
       "output_type": "stream",
       "stream": "stdout",
       "text": [
        "\n",
        "Iter = 6 tmp_key = None"
       ]
      },
      {
       "output_type": "stream",
       "stream": "stdout",
       "text": [
        "\n",
        "Iter = 7 tmp_key = None"
       ]
      },
      {
       "output_type": "stream",
       "stream": "stdout",
       "text": [
        "\n",
        "Iter = 8 tmp_key = None"
       ]
      },
      {
       "output_type": "stream",
       "stream": "stdout",
       "text": [
        "\n",
        "Iter = 9 tmp_key = None"
       ]
      },
      {
       "output_type": "stream",
       "stream": "stdout",
       "text": [
        "\n"
       ]
      }
     ],
     "prompt_number": 19
    },
    {
     "cell_type": "markdown",
     "metadata": {},
     "source": [
      "Observe\n",
      "-------"
     ]
    },
    {
     "cell_type": "code",
     "collapsed": false,
     "input": [
      "key = \"user:100\"\n",
      "bucket.remove(key,quiet=True)\n",
      "bucket.insert(key,{'name':'Yossi','age':100})\n",
      "for x in xrange(3):\n",
      "    print bucket.observe(key)\n",
      "    time.sleep(1)\n"
     ],
     "language": "python",
     "metadata": {},
     "outputs": [
      {
       "output_type": "stream",
       "stream": "stdout",
       "text": [
        "ValueResult<RC=0x0, Key=u'user:100', Value=[ObserveInfo<Status=[OBS_FOUND (0x0)], Master=True, CAS=0xB2ACC9BCD12A0000>], CAS=0x0, Flags=0x0>\n",
        "ValueResult<RC=0x0, Key=u'user:100', Value=[ObserveInfo<Status=[OBS_PERSISTED (0x1)], Master=True, CAS=0xB2ACC9BCD12A0000>], CAS=0x0, Flags=0x0>"
       ]
      },
      {
       "output_type": "stream",
       "stream": "stdout",
       "text": [
        "\n",
        "ValueResult<RC=0x0, Key=u'user:100', Value=[ObserveInfo<Status=[OBS_PERSISTED (0x1)], Master=True, CAS=0xB2ACC9BCD12A0000>], CAS=0x0, Flags=0x0>"
       ]
      },
      {
       "output_type": "stream",
       "stream": "stdout",
       "text": [
        "\n"
       ]
      }
     ],
     "prompt_number": 26
    },
    {
     "cell_type": "markdown",
     "metadata": {},
     "source": [
      "CAS\n",
      "---\n",
      "When you get an object, there is CAS for it, you can use it for writing back, and then you get an error, if this object was changed.\n"
     ]
    },
    {
     "cell_type": "code",
     "collapsed": false,
     "input": [
      "u = {'name': 'Eran','score':100}\n",
      "key = 'user:100'\n",
      "bucket.remove(key,quiet=True)\n",
      "bucket.insert(key,u)\n",
      "\n",
      "def raise_score(k):\n",
      "    r = bucket.get(k)\n",
      "    u = r.value\n",
      "    #bucket.replace(k,u)\n",
      "    u['score']+=1\n",
      "    bucket.replace(k,u,cas=r.cas)\n",
      "    \n",
      "raise_score(key)\n",
      "print bucket.get(key)\n",
      "\n",
      "\n",
      "\n"
     ],
     "language": "python",
     "metadata": {},
     "outputs": [
      {
       "ename": "_KeyExistsError_0xC (generated, catch KeyExistsError)",
       "evalue": "<Key=u'user:100', RC=0xC[The key already exists in the server. If you have supplied a CAS then the key exists with a CAS value different than specified], Operational Error, Results=1, C Source=(src/multiresult.c,309)>",
       "output_type": "pyerr",
       "traceback": [
        "\u001b[1;31m---------------------------------------------------------------------------\u001b[0m\n\u001b[1;31m_KeyExistsError_0xC (generated, catch KeyExistsError)\u001b[0mTraceback (most recent call last)",
        "\u001b[1;32m<ipython-input-36-450b8c3e9025>\u001b[0m in \u001b[0;36m<module>\u001b[1;34m()\u001b[0m\n\u001b[0;32m     11\u001b[0m     \u001b[0mbucket\u001b[0m\u001b[1;33m.\u001b[0m\u001b[0mreplace\u001b[0m\u001b[1;33m(\u001b[0m\u001b[0mk\u001b[0m\u001b[1;33m,\u001b[0m\u001b[0mu\u001b[0m\u001b[1;33m,\u001b[0m\u001b[0mcas\u001b[0m\u001b[1;33m=\u001b[0m\u001b[0mr\u001b[0m\u001b[1;33m.\u001b[0m\u001b[0mcas\u001b[0m\u001b[1;33m)\u001b[0m\u001b[1;33m\u001b[0m\u001b[0m\n\u001b[0;32m     12\u001b[0m \u001b[1;33m\u001b[0m\u001b[0m\n\u001b[1;32m---> 13\u001b[1;33m \u001b[0mraise_score\u001b[0m\u001b[1;33m(\u001b[0m\u001b[0mkey\u001b[0m\u001b[1;33m)\u001b[0m\u001b[1;33m\u001b[0m\u001b[0m\n\u001b[0m\u001b[0;32m     14\u001b[0m \u001b[1;32mprint\u001b[0m \u001b[0mbucket\u001b[0m\u001b[1;33m.\u001b[0m\u001b[0mget\u001b[0m\u001b[1;33m(\u001b[0m\u001b[0mkey\u001b[0m\u001b[1;33m)\u001b[0m\u001b[1;33m\u001b[0m\u001b[0m\n\u001b[0;32m     15\u001b[0m \u001b[1;33m\u001b[0m\u001b[0m\n",
        "\u001b[1;32m<ipython-input-36-450b8c3e9025>\u001b[0m in \u001b[0;36mraise_score\u001b[1;34m(k)\u001b[0m\n\u001b[0;32m      9\u001b[0m     \u001b[0mbucket\u001b[0m\u001b[1;33m.\u001b[0m\u001b[0mreplace\u001b[0m\u001b[1;33m(\u001b[0m\u001b[0mk\u001b[0m\u001b[1;33m,\u001b[0m\u001b[0mu\u001b[0m\u001b[1;33m)\u001b[0m\u001b[1;33m\u001b[0m\u001b[0m\n\u001b[0;32m     10\u001b[0m     \u001b[0mu\u001b[0m\u001b[1;33m[\u001b[0m\u001b[1;34m'score'\u001b[0m\u001b[1;33m]\u001b[0m\u001b[1;33m+=\u001b[0m\u001b[1;36m1\u001b[0m\u001b[1;33m\u001b[0m\u001b[0m\n\u001b[1;32m---> 11\u001b[1;33m     \u001b[0mbucket\u001b[0m\u001b[1;33m.\u001b[0m\u001b[0mreplace\u001b[0m\u001b[1;33m(\u001b[0m\u001b[0mk\u001b[0m\u001b[1;33m,\u001b[0m\u001b[0mu\u001b[0m\u001b[1;33m,\u001b[0m\u001b[0mcas\u001b[0m\u001b[1;33m=\u001b[0m\u001b[0mr\u001b[0m\u001b[1;33m.\u001b[0m\u001b[0mcas\u001b[0m\u001b[1;33m)\u001b[0m\u001b[1;33m\u001b[0m\u001b[0m\n\u001b[0m\u001b[0;32m     12\u001b[0m \u001b[1;33m\u001b[0m\u001b[0m\n\u001b[0;32m     13\u001b[0m \u001b[0mraise_score\u001b[0m\u001b[1;33m(\u001b[0m\u001b[0mkey\u001b[0m\u001b[1;33m)\u001b[0m\u001b[1;33m\u001b[0m\u001b[0m\n",
        "\u001b[1;32m/usr/local/lib/python2.7/dist-packages/couchbase/bucket.pyc\u001b[0m in \u001b[0;36mreplace\u001b[1;34m(self, key, value, cas, ttl, format, persist_to, replicate_to)\u001b[0m\n\u001b[0;32m    375\u001b[0m         \"\"\"\n\u001b[0;32m    376\u001b[0m         return _Base.replace(self, key, value, ttl=ttl, cas=cas, format=format,\n\u001b[1;32m--> 377\u001b[1;33m                              persist_to=persist_to, replicate_to=replicate_to)\n\u001b[0m\u001b[0;32m    378\u001b[0m \u001b[1;33m\u001b[0m\u001b[0m\n\u001b[0;32m    379\u001b[0m     def append(self, key, value, cas=0, format=None,\n",
        "\u001b[1;31m_KeyExistsError_0xC (generated, catch KeyExistsError)\u001b[0m: <Key=u'user:100', RC=0xC[The key already exists in the server. If you have supplied a CAS then the key exists with a CAS value different than specified], Operational Error, Results=1, C Source=(src/multiresult.c,309)>"
       ]
      }
     ],
     "prompt_number": 36
    }
   ],
   "metadata": {}
  }
 ]
}