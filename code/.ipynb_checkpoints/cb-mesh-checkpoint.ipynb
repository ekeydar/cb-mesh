{
 "metadata": {
  "name": "",
  "signature": "sha256:b68cc3259688213a2d8d020e6515924a405970bd15d09816c1356218047cef37"
 },
 "nbformat": 3,
 "nbformat_minor": 0,
 "worksheets": []
}