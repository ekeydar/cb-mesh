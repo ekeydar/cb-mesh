{
 "metadata": {
  "name": "",
  "signature": "sha256:96e229a53ce9d4680773b88caab5c7857ffd8d1483970017f3be60ea5346b5bb"
 },
 "nbformat": 3,
 "nbformat_minor": 0,
 "worksheets": [
  {
   "cells": [
    {
     "cell_type": "code",
     "collapsed": false,
     "input": [
      "import code_utils as CU\n",
      "reload(CU)\n",
      "bucket = CU.bucket\n",
      "from pprint import pprint\n",
      "import json\n"
     ],
     "language": "python",
     "metadata": {},
     "outputs": [],
     "prompt_number": 43
    },
    {
     "cell_type": "code",
     "collapsed": false,
     "input": [
      "ca_users = bucket.query('users','users_by_country',\n",
      "                        use_devmode=True,\n",
      "                        key=\"CA\",\n",
      "                        full_set=True,\n",
      "                        skip=100,\n",
      "                        limit=10,\n",
      "                        include_docs=True)\n",
      "for ca in ca_users:\n",
      "    print ca.docid,ca.doc.value"
     ],
     "language": "python",
     "metadata": {},
     "outputs": [
      {
       "output_type": "stream",
       "stream": "stdout",
       "text": [
        "user:10562 {u'phone': u'+50240549', u'country': u'CA', u'join': u'2014-02-20', u'doctype': u'user', u'name': u'Name10561'}\n",
        "user:10569 {u'phone': u'+77342124', u'country': u'CA', u'join': u'2014-06-08', u'doctype': u'user', u'name': u'Name10568'}\n",
        "user:1057 {u'phone': u'+32540387', u'country': u'CA', u'join': u'2014-09-28', u'doctype': u'user', u'name': u'Name1056'}\n",
        "user:10582 {u'phone': u'+18718122', u'country': u'CA', u'join': u'2012-10-09', u'doctype': u'user', u'name': u'Name10581'}\n",
        "user:10590 {u'phone': u'+80499259', u'country': u'CA', u'join': u'2014-11-19', u'doctype': u'user', u'name': u'Name10589'}\n",
        "user:10591 {u'phone': u'+60934287', u'country': u'CA', u'join': u'2013-07-20', u'doctype': u'user', u'name': u'Name10590'}\n",
        "user:10597 {u'phone': u'+12338798', u'country': u'CA', u'join': u'2013-09-25', u'doctype': u'user', u'name': u'Name10596'}\n",
        "user:10599 {u'phone': u'+46669728', u'country': u'CA', u'join': u'2014-07-05', u'doctype': u'user', u'name': u'Name10598'}\n",
        "user:10610 {u'phone': u'+38320786', u'country': u'CA', u'join': u'2014-08-07', u'doctype': u'user', u'name': u'Name10609'}\n",
        "user:1062 {u'phone': u'+69837385', u'country': u'CA', u'join': u'2014-07-10', u'doctype': u'user', u'name': u'Name1061'}\n"
       ]
      }
     ],
     "prompt_number": 25
    },
    {
     "cell_type": "code",
     "collapsed": false,
     "input": [
      "def users_on_date(y,m,d):\n",
      "    key = [y,m,d,0,0,0]\n",
      "    rows = bucket.query('users',\n",
      "                              'users_by_date',\n",
      "                              key=key,\n",
      "                              full_set=True,\n",
      "                              use_devmode=True,\n",
      "                              limit=5,\n",
      "                              include_docs=True,\n",
      "                              reduce=False)\n",
      "    return [(row.docid,row.doc.value) for row in rows]\n",
      "\n",
      "pprint(users_on_date(2014,5,3))\n"
     ],
     "language": "python",
     "metadata": {},
     "outputs": [
      {
       "output_type": "stream",
       "stream": "stdout",
       "text": [
        "[(u'user:11233',\n",
        "  {u'country': u'CA',\n",
        "   u'doctype': u'user',\n",
        "   u'join': u'2014-05-03',\n",
        "   u'name': u'Name11232',\n",
        "   u'phone': u'+36756477'}),\n",
        " (u'user:14554',\n",
        "  {u'country': u'IL',\n",
        "   u'doctype': u'user',\n",
        "   u'join': u'2014-05-03',\n",
        "   u'name': u'Name14553',\n",
        "   u'phone': u'+72098132'}),\n",
        " (u'user:14865',\n",
        "  {u'country': u'CA',\n",
        "   u'doctype': u'user',\n",
        "   u'join': u'2014-05-03',\n",
        "   u'name': u'Name14864',\n",
        "   u'phone': u'+79101997'}),\n",
        " (u'user:1518',\n",
        "  {u'country': u'CA',\n",
        "   u'doctype': u'user',\n",
        "   u'join': u'2014-05-03',\n",
        "   u'name': u'Name1517',\n",
        "   u'phone': u'+78914043'}),\n",
        " (u'user:16365',\n",
        "  {u'country': u'IT',\n",
        "   u'doctype': u'user',\n",
        "   u'join': u'2014-05-03',\n",
        "   u'name': u'Name16364',\n",
        "   u'phone': u'+86482521'})]\n"
       ]
      }
     ],
     "prompt_number": 54
    }
   ],
   "metadata": {}
  }
 ]
}