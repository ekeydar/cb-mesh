{
 "metadata": {
  "name": "",
  "signature": "sha256:0efa997664504d3fc0d2c4ec8587210aae780f0a65efa7f543c908e853b19380"
 },
 "nbformat": 3,
 "nbformat_minor": 0,
 "worksheets": [
  {
   "cells": [
    {
     "cell_type": "markdown",
     "metadata": {},
     "source": [
      "App\n",
      "===\n",
      "\n",
      "User\n",
      "----\n",
      "\n",
      "* name\n",
      "* country\n",
      "* phone\n",
      "* join date\n",
      "\n",
      "phone is unique\n",
      "\n",
      "Chat\n",
      "----\n",
      "* name\n",
      "* members\n",
      "\n",
      "user can create chats and join chats\n"
     ]
    },
    {
     "cell_type": "code",
     "collapsed": false,
     "input": [
      "import code_utils as CU\n",
      "reload(CU)\n",
      "bucket = CU.bucket\n",
      "from pprint import pprint\n",
      "import time"
     ],
     "language": "python",
     "metadata": {},
     "outputs": [],
     "prompt_number": 239
    },
    {
     "cell_type": "code",
     "collapsed": false,
     "input": [
      "CU.clean_all_docs()\n",
      "\n",
      "def add_user(name,phone,country,join_date,verbose=True):\n",
      "    key = 'user:%s' % bucket.counter('user_counter',initial=1,delta=1).value\n",
      "    bucket.insert(key,{\n",
      "        'name' : name,\n",
      "        'phone' : phone,\n",
      "        'country': country,\n",
      "        'join': join_date.isoformat()\n",
      "    })\n",
      "    return key\n",
      "    \n",
      "print add_user('Eran','+123456','IL',CU.get_random_date())\n",
      "print add_user('Ido','+123457','IL',CU.get_random_date())\n",
      "pprint(bucket.get('user:1').value)\n"
     ],
     "language": "python",
     "metadata": {},
     "outputs": [
      {
       "output_type": "stream",
       "stream": "stdout",
       "text": [
        "cleaned\n",
        "user:1\n",
        "user:2\n",
        "{u'country': u'IL',\n",
        " u'join': u'2013-12-23',\n",
        " u'name': u'Eran',\n",
        " u'phone': u'+123456'}\n"
       ]
      }
     ],
     "prompt_number": 240
    },
    {
     "cell_type": "code",
     "collapsed": false,
     "input": [
      "# but I can add two users with the same phone\n",
      "print add_user('User1','+125457','GB',CU.get_random_date())\n",
      "print add_user('User2','+125457','GB',CU.get_random_date())"
     ],
     "language": "python",
     "metadata": {},
     "outputs": [
      {
       "output_type": "stream",
       "stream": "stdout",
       "text": [
        "user:5\n",
        "user:6\n"
       ]
      }
     ],
     "prompt_number": 242
    },
    {
     "cell_type": "code",
     "collapsed": false,
     "input": [
      "def add_user(name,phone,country,join_date,verbose=True):\n",
      "    phone_key = 'user:%s' % phone\n",
      "    existing_user_key = bucket.get(phone_key,quiet=True).value\n",
      "    if existing_user_key:\n",
      "        print 'User with phone %s already exists' % phone\n",
      "        return existing_user_key\n",
      "    key = 'user:%s' % bucket.counter('user_counter',initial=1,delta=1).value\n",
      "    bucket.insert(key,{\n",
      "        'name' : name,\n",
      "        'phone' : phone,\n",
      "        'country': country,\n",
      "        'join': join_date.isoformat(),\n",
      "        'doctype': 'user',\n",
      "    })\n",
      "    bucket.insert(phone_key, key)\n",
      "    return key\n",
      "\n"
     ],
     "language": "python",
     "metadata": {},
     "outputs": [],
     "prompt_number": 243
    },
    {
     "cell_type": "code",
     "collapsed": false,
     "input": [
      "def create_chat(user_key,name):\n",
      "    \"\"\" user_key: user who creates the key\n",
      "        name: chat name\n",
      "    \"\"\"\n",
      "    key = 'chat:%s' % bucket.counter('chat_counter',initial=1,delta=1).value\n",
      "    bucket.insert(key,{\n",
      "                    'name': name,\n",
      "                    'members': [user_key],\n",
      "                    'doctype': 'chat',\n",
      "                  })\n",
      "    return key\n",
      "    \n",
      "u1 = add_user('Eran Keydar','+6661','GB',CU.get_random_date())\n",
      "c1 = create_chat(u1,'My Chat')\n",
      "print c1\n",
      "pprint(bucket.get(c1).value)\n",
      "\n",
      "\n",
      "    \n",
      "\n"
     ],
     "language": "python",
     "metadata": {},
     "outputs": [
      {
       "output_type": "stream",
       "stream": "stdout",
       "text": [
        "chat:1\n",
        "{u'doctype': u'chat', u'members': [u'user:7'], u'name': u'My Chat'}\n"
       ]
      }
     ],
     "prompt_number": 244
    },
    {
     "cell_type": "code",
     "collapsed": false,
     "input": [
      "# add users to chat\n",
      "\n",
      "def join_user_to_chat(user_key,chat_key):\n",
      "    chat = bucket.get(chat_key).value\n",
      "    chat['members'].append(user_key)\n",
      "    bucket.replace(chat_key,chat)\n",
      "\n",
      "u2 = add_user('Rotem','+6662','IL',CU.get_random_date())\n",
      "u3 = add_user('Ido','+6663','IL',CU.get_random_date())\n",
      "u4 = add_user('Yuval','+6664','IL',CU.get_random_date())\n",
      "\n",
      "join_user_to_chat(u2,c1)\n",
      "join_user_to_chat(u3,c1)\n",
      "join_user_to_chat(u4,c1)\n",
      "pprint(bucket.get(c1).value)\n",
      "\n"
     ],
     "language": "python",
     "metadata": {},
     "outputs": [
      {
       "ename": "_KeyExistsError_0xC (generated, catch KeyExistsError)",
       "evalue": "<Key=u'user:9', RC=0xC[The key already exists in the server. If you have supplied a CAS then the key exists with a CAS value different than specified], Operational Error, Results=1, C Source=(src/multiresult.c,309)>",
       "output_type": "pyerr",
       "traceback": [
        "\u001b[1;31m---------------------------------------------------------------------------\u001b[0m\n\u001b[1;31m_KeyExistsError_0xC (generated, catch KeyExistsError)\u001b[0mTraceback (most recent call last)",
        "\u001b[1;32m<ipython-input-245-6fa67998b767>\u001b[0m in \u001b[0;36m<module>\u001b[1;34m()\u001b[0m\n\u001b[0;32m      7\u001b[0m \u001b[1;33m\u001b[0m\u001b[0m\n\u001b[0;32m      8\u001b[0m \u001b[0mu2\u001b[0m \u001b[1;33m=\u001b[0m \u001b[0madd_user\u001b[0m\u001b[1;33m(\u001b[0m\u001b[1;34m'Rotem'\u001b[0m\u001b[1;33m,\u001b[0m\u001b[1;34m'+6662'\u001b[0m\u001b[1;33m,\u001b[0m\u001b[1;34m'IL'\u001b[0m\u001b[1;33m,\u001b[0m\u001b[0mCU\u001b[0m\u001b[1;33m.\u001b[0m\u001b[0mget_random_date\u001b[0m\u001b[1;33m(\u001b[0m\u001b[1;33m)\u001b[0m\u001b[1;33m)\u001b[0m\u001b[1;33m\u001b[0m\u001b[0m\n\u001b[1;32m----> 9\u001b[1;33m \u001b[0mu3\u001b[0m \u001b[1;33m=\u001b[0m \u001b[0madd_user\u001b[0m\u001b[1;33m(\u001b[0m\u001b[1;34m'Ido'\u001b[0m\u001b[1;33m,\u001b[0m\u001b[1;34m'+6663'\u001b[0m\u001b[1;33m,\u001b[0m\u001b[1;34m'IL'\u001b[0m\u001b[1;33m,\u001b[0m\u001b[0mCU\u001b[0m\u001b[1;33m.\u001b[0m\u001b[0mget_random_date\u001b[0m\u001b[1;33m(\u001b[0m\u001b[1;33m)\u001b[0m\u001b[1;33m)\u001b[0m\u001b[1;33m\u001b[0m\u001b[0m\n\u001b[0m\u001b[0;32m     10\u001b[0m \u001b[0mu4\u001b[0m \u001b[1;33m=\u001b[0m \u001b[0madd_user\u001b[0m\u001b[1;33m(\u001b[0m\u001b[1;34m'Yuval'\u001b[0m\u001b[1;33m,\u001b[0m\u001b[1;34m'+6664'\u001b[0m\u001b[1;33m,\u001b[0m\u001b[1;34m'IL'\u001b[0m\u001b[1;33m,\u001b[0m\u001b[0mCU\u001b[0m\u001b[1;33m.\u001b[0m\u001b[0mget_random_date\u001b[0m\u001b[1;33m(\u001b[0m\u001b[1;33m)\u001b[0m\u001b[1;33m)\u001b[0m\u001b[1;33m\u001b[0m\u001b[0m\n\u001b[0;32m     11\u001b[0m \u001b[1;33m\u001b[0m\u001b[0m\n",
        "\u001b[1;32m<ipython-input-243-a16d63530bc3>\u001b[0m in \u001b[0;36madd_user\u001b[1;34m(name, phone, country, join_date, verbose)\u001b[0m\n\u001b[0;32m     11\u001b[0m         \u001b[1;34m'country'\u001b[0m\u001b[1;33m:\u001b[0m \u001b[0mcountry\u001b[0m\u001b[1;33m,\u001b[0m\u001b[1;33m\u001b[0m\u001b[0m\n\u001b[0;32m     12\u001b[0m         \u001b[1;34m'join'\u001b[0m\u001b[1;33m:\u001b[0m \u001b[0mjoin_date\u001b[0m\u001b[1;33m.\u001b[0m\u001b[0misoformat\u001b[0m\u001b[1;33m(\u001b[0m\u001b[1;33m)\u001b[0m\u001b[1;33m,\u001b[0m\u001b[1;33m\u001b[0m\u001b[0m\n\u001b[1;32m---> 13\u001b[1;33m         \u001b[1;34m'doctype'\u001b[0m\u001b[1;33m:\u001b[0m \u001b[1;34m'user'\u001b[0m\u001b[1;33m,\u001b[0m\u001b[1;33m\u001b[0m\u001b[0m\n\u001b[0m\u001b[0;32m     14\u001b[0m     })\n\u001b[0;32m     15\u001b[0m     \u001b[0mbucket\u001b[0m\u001b[1;33m.\u001b[0m\u001b[0minsert\u001b[0m\u001b[1;33m(\u001b[0m\u001b[0mphone_key\u001b[0m\u001b[1;33m,\u001b[0m \u001b[0mkey\u001b[0m\u001b[1;33m)\u001b[0m\u001b[1;33m\u001b[0m\u001b[0m\n",
        "\u001b[1;32m/usr/local/lib/python2.7/dist-packages/couchbase/bucket.pyc\u001b[0m in \u001b[0;36minsert\u001b[1;34m(self, key, value, ttl, format, persist_to, replicate_to)\u001b[0m\n\u001b[0;32m    361\u001b[0m         \"\"\"\n\u001b[0;32m    362\u001b[0m         return _Base.insert(self, key, value, ttl=ttl, format=format,\n\u001b[1;32m--> 363\u001b[1;33m                             persist_to=persist_to, replicate_to=replicate_to)\n\u001b[0m\u001b[0;32m    364\u001b[0m \u001b[1;33m\u001b[0m\u001b[0m\n\u001b[0;32m    365\u001b[0m     def replace(self, key, value, cas=0, ttl=0, format=None,\n",
        "\u001b[1;31m_KeyExistsError_0xC (generated, catch KeyExistsError)\u001b[0m: <Key=u'user:9', RC=0xC[The key already exists in the server. If you have supplied a CAS then the key exists with a CAS value different than specified], Operational Error, Results=1, C Source=(src/multiresult.c,309)>"
       ]
      }
     ],
     "prompt_number": 245
    },
    {
     "cell_type": "code",
     "collapsed": false,
     "input": [
      "chat1 = bucket.get(c1).value\n",
      "krs = bucket.get_multi(chat1['members'])\n",
      "for k,r in krs.iteritems():\n",
      "    print k,r.value\n",
      "\n"
     ],
     "language": "python",
     "metadata": {},
     "outputs": [
      {
       "output_type": "stream",
       "stream": "stdout",
       "text": [
        "user:7 {u'phone': u'+6661', u'country': u'GB', u'join': u'2013-10-04', u'doctype': u'user', u'name': u'Eran Keydar'}\n"
       ]
      }
     ],
     "prompt_number": 246
    },
    {
     "cell_type": "code",
     "collapsed": true,
     "input": [
      "CU.clean_all_docs()\n",
      "user_keys = []\n",
      "for x in xrange(100):\n",
      "    user_keys.append(add_user('user%s' % x,'+973%05d' % x,CU.get_random_country(),CU.get_random_date(),verbose=False))\n",
      "\n",
      "print len(user_keys)\n",
      "\n",
      "chat_key = create_chat(user_keys[0],'Group Chat')\n",
      "\n",
      "import threading\n",
      "\n",
      "threads = []\n",
      "for uk in user_keys[1:]:\n",
      "    t = threading.Thread(target=join_user_to_chat,args=(uk,chat_key))\n",
      "    t.start()\n",
      "    threads.append(t)\n",
      "for t in threads:\n",
      "    t.join()\n",
      "    \n",
      "from pprint import pprint\n",
      "#pprint(bucket.get(chat_key).value)\n",
      "print '# of members = %s' % len(bucket.get(chat_key).value['members'])\n",
      "assert len(bucket.get(chat_key).value['members']) == 100\n",
      "\n",
      "    \n",
      "\n"
     ],
     "language": "python",
     "metadata": {},
     "outputs": [
      {
       "output_type": "stream",
       "stream": "stdout",
       "text": [
        "cleaned\n",
        "100\n",
        "# of members = 12"
       ]
      },
      {
       "output_type": "stream",
       "stream": "stdout",
       "text": [
        "\n"
       ]
      },
      {
       "ename": "AssertionError",
       "evalue": "",
       "output_type": "pyerr",
       "traceback": [
        "\u001b[1;31m---------------------------------------------------------------------------\u001b[0m\n\u001b[1;31mAssertionError\u001b[0m                            Traceback (most recent call last)",
        "\u001b[1;32m<ipython-input-247-e03885345f61>\u001b[0m in \u001b[0;36m<module>\u001b[1;34m()\u001b[0m\n\u001b[0;32m     21\u001b[0m \u001b[1;31m#pprint(bucket.get(chat_key).value)\u001b[0m\u001b[1;33m\u001b[0m\u001b[1;33m\u001b[0m\u001b[0m\n\u001b[0;32m     22\u001b[0m \u001b[1;32mprint\u001b[0m \u001b[1;34m'# of members = %s'\u001b[0m \u001b[1;33m%\u001b[0m \u001b[0mlen\u001b[0m\u001b[1;33m(\u001b[0m\u001b[0mbucket\u001b[0m\u001b[1;33m.\u001b[0m\u001b[0mget\u001b[0m\u001b[1;33m(\u001b[0m\u001b[0mchat_key\u001b[0m\u001b[1;33m)\u001b[0m\u001b[1;33m.\u001b[0m\u001b[0mvalue\u001b[0m\u001b[1;33m[\u001b[0m\u001b[1;34m'members'\u001b[0m\u001b[1;33m]\u001b[0m\u001b[1;33m)\u001b[0m\u001b[1;33m\u001b[0m\u001b[0m\n\u001b[1;32m---> 23\u001b[1;33m \u001b[1;32massert\u001b[0m \u001b[0mlen\u001b[0m\u001b[1;33m(\u001b[0m\u001b[0mbucket\u001b[0m\u001b[1;33m.\u001b[0m\u001b[0mget\u001b[0m\u001b[1;33m(\u001b[0m\u001b[0mchat_key\u001b[0m\u001b[1;33m)\u001b[0m\u001b[1;33m.\u001b[0m\u001b[0mvalue\u001b[0m\u001b[1;33m[\u001b[0m\u001b[1;34m'members'\u001b[0m\u001b[1;33m]\u001b[0m\u001b[1;33m)\u001b[0m \u001b[1;33m==\u001b[0m \u001b[1;36m100\u001b[0m\u001b[1;33m\u001b[0m\u001b[0m\n\u001b[0m\u001b[0;32m     24\u001b[0m \u001b[1;33m\u001b[0m\u001b[0m\n\u001b[0;32m     25\u001b[0m \u001b[1;33m\u001b[0m\u001b[0m\n",
        "\u001b[1;31mAssertionError\u001b[0m: "
       ]
      }
     ],
     "prompt_number": 247
    },
    {
     "cell_type": "code",
     "collapsed": false,
     "input": [
      "bucket.get('chat:1').cas"
     ],
     "language": "python",
     "metadata": {},
     "outputs": []
    },
    {
     "cell_type": "code",
     "collapsed": false,
     "input": [
      "def casprotect(func):\n",
      "    def wrap(*args,**kwargs):\n",
      "        for x in xrange(100):\n",
      "            try:\n",
      "                result = func(*args,**kwargs)\n",
      "                return result\n",
      "            except couchbase.exceptions.KeyExistsError:\n",
      "                if x == 99:\n",
      "                    raise\n",
      "                time.sleep(0.01)\n",
      "    return wrap\n",
      "\n",
      "@casprotect\n",
      "def join_user_to_chat(user_key,chat_key):\n",
      "    r = bucket.get(chat_key)\n",
      "    chat = r.value\n",
      "    chat['members'].append(user_key)\n",
      "    bucket.replace(chat_key,chat,cas=r.cas)\n",
      "    \n",
      "    "
     ],
     "language": "python",
     "metadata": {},
     "outputs": [],
     "prompt_number": 248
    },
    {
     "cell_type": "code",
     "collapsed": true,
     "input": [
      "reload(CU)\n",
      "CU.clean_all_docs()\n"
     ],
     "language": "python",
     "metadata": {},
     "outputs": [
      {
       "output_type": "stream",
       "stream": "stdout",
       "text": [
        "cleaned\n"
       ]
      }
     ],
     "prompt_number": 249
    },
    {
     "cell_type": "code",
     "collapsed": true,
     "input": [
      "for x in xrange(50000):\n",
      "    if ((1+x) % 1000) == 0:\n",
      "        print 'Added %s' % x\n",
      "    add_user('Name%s' % x,\n",
      "             CU.get_random_phone(),\n",
      "             CU.get_random_country(),\n",
      "             CU.get_random_date(),\n",
      "             verbose=False)"
     ],
     "language": "python",
     "metadata": {},
     "outputs": [
      {
       "output_type": "stream",
       "stream": "stdout",
       "text": [
        "Added 999\n",
        "Added 1999"
       ]
      },
      {
       "output_type": "stream",
       "stream": "stdout",
       "text": [
        "\n",
        "Added 2999"
       ]
      },
      {
       "output_type": "stream",
       "stream": "stdout",
       "text": [
        "\n",
        "Added 3999"
       ]
      },
      {
       "output_type": "stream",
       "stream": "stdout",
       "text": [
        "\n",
        "Added 4999"
       ]
      },
      {
       "output_type": "stream",
       "stream": "stdout",
       "text": [
        "\n",
        "Added 5999"
       ]
      },
      {
       "output_type": "stream",
       "stream": "stdout",
       "text": [
        "\n",
        "Added 6999"
       ]
      },
      {
       "output_type": "stream",
       "stream": "stdout",
       "text": [
        "\n",
        "Added 7999"
       ]
      },
      {
       "output_type": "stream",
       "stream": "stdout",
       "text": [
        "\n",
        "Added 8999"
       ]
      },
      {
       "output_type": "stream",
       "stream": "stdout",
       "text": [
        "\n",
        "Added 9999"
       ]
      },
      {
       "output_type": "stream",
       "stream": "stdout",
       "text": [
        "\n",
        "Added 10999"
       ]
      },
      {
       "output_type": "stream",
       "stream": "stdout",
       "text": [
        "\n",
        "Added 11999"
       ]
      },
      {
       "output_type": "stream",
       "stream": "stdout",
       "text": [
        "\n",
        "Added 12999"
       ]
      },
      {
       "output_type": "stream",
       "stream": "stdout",
       "text": [
        "\n",
        "Added 13999"
       ]
      },
      {
       "output_type": "stream",
       "stream": "stdout",
       "text": [
        "\n",
        "Added 14999"
       ]
      },
      {
       "output_type": "stream",
       "stream": "stdout",
       "text": [
        "\n",
        "Added 15999"
       ]
      },
      {
       "output_type": "stream",
       "stream": "stdout",
       "text": [
        "\n",
        "Added 16999"
       ]
      },
      {
       "output_type": "stream",
       "stream": "stdout",
       "text": [
        "\n",
        "Added 17999"
       ]
      },
      {
       "output_type": "stream",
       "stream": "stdout",
       "text": [
        "\n",
        "Added 18999"
       ]
      },
      {
       "output_type": "stream",
       "stream": "stdout",
       "text": [
        "\n",
        "Added 19999"
       ]
      },
      {
       "output_type": "stream",
       "stream": "stdout",
       "text": [
        "\n",
        "Added 20999"
       ]
      },
      {
       "output_type": "stream",
       "stream": "stdout",
       "text": [
        "\n",
        "Added 21999"
       ]
      },
      {
       "output_type": "stream",
       "stream": "stdout",
       "text": [
        "\n",
        "Added 22999"
       ]
      },
      {
       "output_type": "stream",
       "stream": "stdout",
       "text": [
        "\n",
        "Added 23999"
       ]
      },
      {
       "output_type": "stream",
       "stream": "stdout",
       "text": [
        "\n",
        "Added 24999"
       ]
      },
      {
       "output_type": "stream",
       "stream": "stdout",
       "text": [
        "\n",
        "Added 25999"
       ]
      },
      {
       "output_type": "stream",
       "stream": "stdout",
       "text": [
        "\n",
        "User with phone +06114683 already exists"
       ]
      },
      {
       "output_type": "stream",
       "stream": "stdout",
       "text": [
        "\n",
        "Added 26999"
       ]
      },
      {
       "output_type": "stream",
       "stream": "stdout",
       "text": [
        "\n",
        "Added 27999"
       ]
      },
      {
       "output_type": "stream",
       "stream": "stdout",
       "text": [
        "\n",
        "User with phone +40179643 already exists\n",
        "Added 28999"
       ]
      },
      {
       "output_type": "stream",
       "stream": "stdout",
       "text": [
        "\n",
        "Added 29999"
       ]
      },
      {
       "output_type": "stream",
       "stream": "stdout",
       "text": [
        "\n",
        "User with phone +38190785 already exists"
       ]
      },
      {
       "output_type": "stream",
       "stream": "stdout",
       "text": [
        "\n",
        "Added 30999"
       ]
      },
      {
       "output_type": "stream",
       "stream": "stdout",
       "text": [
        "\n",
        "Added 31999"
       ]
      },
      {
       "output_type": "stream",
       "stream": "stdout",
       "text": [
        "\n",
        "User with phone +27495351 already exists"
       ]
      },
      {
       "output_type": "stream",
       "stream": "stdout",
       "text": [
        "\n",
        "User with phone +17475334 already exists"
       ]
      },
      {
       "output_type": "stream",
       "stream": "stdout",
       "text": [
        "\n",
        "Added 32999"
       ]
      },
      {
       "output_type": "stream",
       "stream": "stdout",
       "text": [
        "\n",
        "Added 33999"
       ]
      },
      {
       "output_type": "stream",
       "stream": "stdout",
       "text": [
        "\n",
        "Added 34999"
       ]
      },
      {
       "output_type": "stream",
       "stream": "stdout",
       "text": [
        "\n",
        "User with phone +33637159 already exists"
       ]
      },
      {
       "output_type": "stream",
       "stream": "stdout",
       "text": [
        "\n",
        "Added 35999"
       ]
      },
      {
       "output_type": "stream",
       "stream": "stdout",
       "text": [
        "\n",
        "Added 36999"
       ]
      },
      {
       "output_type": "stream",
       "stream": "stdout",
       "text": [
        "\n",
        "Added 37999"
       ]
      },
      {
       "output_type": "stream",
       "stream": "stdout",
       "text": [
        "\n",
        "Added 38999"
       ]
      },
      {
       "output_type": "stream",
       "stream": "stdout",
       "text": [
        "\n",
        "User with phone +37066887 already exists"
       ]
      },
      {
       "output_type": "stream",
       "stream": "stdout",
       "text": [
        "\n",
        "User with phone +76414016 already exists"
       ]
      },
      {
       "output_type": "stream",
       "stream": "stdout",
       "text": [
        "\n",
        "User with phone +93105614 already exists\n",
        "Added 39999"
       ]
      },
      {
       "output_type": "stream",
       "stream": "stdout",
       "text": [
        "\n",
        "Added 40999"
       ]
      },
      {
       "output_type": "stream",
       "stream": "stdout",
       "text": [
        "\n",
        "Added 41999"
       ]
      },
      {
       "output_type": "stream",
       "stream": "stdout",
       "text": [
        "\n",
        "User with phone +30854114 already exists"
       ]
      },
      {
       "output_type": "stream",
       "stream": "stdout",
       "text": [
        "\n",
        "User with phone +28661150 already exists"
       ]
      },
      {
       "output_type": "stream",
       "stream": "stdout",
       "text": [
        "\n",
        "Added 42999"
       ]
      },
      {
       "output_type": "stream",
       "stream": "stdout",
       "text": [
        "\n",
        "User with phone +01267866 already exists"
       ]
      },
      {
       "output_type": "stream",
       "stream": "stdout",
       "text": [
        "\n",
        "Added 43999\n",
        "Added 44999"
       ]
      },
      {
       "output_type": "stream",
       "stream": "stdout",
       "text": [
        "\n",
        "User with phone +06002558 already exists"
       ]
      },
      {
       "output_type": "stream",
       "stream": "stdout",
       "text": [
        "\n",
        "User with phone +82062792 already exists"
       ]
      },
      {
       "output_type": "stream",
       "stream": "stdout",
       "text": [
        "\n",
        "Added 45999"
       ]
      },
      {
       "output_type": "stream",
       "stream": "stdout",
       "text": [
        "\n",
        "Added 46999"
       ]
      },
      {
       "output_type": "stream",
       "stream": "stdout",
       "text": [
        "\n",
        "User with phone +38646250 already exists"
       ]
      },
      {
       "output_type": "stream",
       "stream": "stdout",
       "text": [
        "\n",
        "Added 47999"
       ]
      },
      {
       "output_type": "stream",
       "stream": "stdout",
       "text": [
        "\n",
        "User with phone +50699786 already exists"
       ]
      },
      {
       "output_type": "stream",
       "stream": "stdout",
       "text": [
        "\n",
        "Added 48999"
       ]
      },
      {
       "output_type": "stream",
       "stream": "stdout",
       "text": [
        "\n",
        "Added 49999"
       ]
      },
      {
       "output_type": "stream",
       "stream": "stdout",
       "text": [
        "\n"
       ]
      }
     ],
     "prompt_number": 250
    },
    {
     "cell_type": "code",
     "collapsed": false,
     "input": [
      "# now I want to find how many user joined in each year and send them message\n",
      "# now I want to find how many user joined in each month and send them message\n",
      "# now I want to find how many user joined in each day and send them message\n"
     ],
     "language": "python",
     "metadata": {},
     "outputs": []
    }
   ],
   "metadata": {}
  }
 ]
}