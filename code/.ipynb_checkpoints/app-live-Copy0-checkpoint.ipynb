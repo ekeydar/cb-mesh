{
 "metadata": {
  "name": "",
  "signature": "sha256:90c360e25e8c00ee21f004090232176c91403e8e89dbce091bac6e6971600611"
 },
 "nbformat": 3,
 "nbformat_minor": 0,
 "worksheets": [
  {
   "cells": [
    {
     "cell_type": "markdown",
     "metadata": {},
     "source": [
      "Demo App\n",
      "===\n",
      "\n",
      "User\n",
      "----\n",
      "\n",
      "* name\n",
      "* country\n",
      "* phone\n",
      "* join date\n",
      "\n",
      "phone is unique\n",
      "\n",
      "Chat\n",
      "----\n",
      "* name\n",
      "* members\n",
      "\n",
      "user can create chats and join chats\n"
     ]
    },
    {
     "cell_type": "code",
     "collapsed": false,
     "input": [
      "import code_utils as CU\n",
      "reload(CU)\n",
      "bucket = CU.bucket\n",
      "import time\n",
      "import json\n",
      "def pp(o):\n",
      "    print json.dumps(o,indent=4)\n",
      "    \n",
      "from couchbase.exceptions import KeyExistsError\n",
      "\n",
      "    "
     ],
     "language": "python",
     "metadata": {},
     "outputs": [],
     "prompt_number": 76
    },
    {
     "cell_type": "markdown",
     "metadata": {},
     "source": [
      "Some utilies we will be using:\n",
      "-----------------------------\n",
      "<code>CU.clean_all_docs() # cleans all docs </code>\n",
      "\n",
      "<code>CU.get_random_date() # returns random date in the last three years </code>\n",
      "\n",
      "<code>CU.get_random_country() # returns random country code, e.g. IL, GB </code>\n",
      "\n",
      "<code>pp() # to print nice</code>\n",
      "\n",
      "<code>bucket # is the global bucket </code>"
     ]
    },
    {
     "cell_type": "heading",
     "level": 1,
     "metadata": {},
     "source": [
      "Create User"
     ]
    },
    {
     "cell_type": "code",
     "collapsed": false,
     "input": [
      "\n",
      "def create_user(name, phone, country, join_date):\n",
      "    key = 'user:%d' % bucket.counter('user_counter',initial=1,delta=1).value\n",
      "    bucket.insert(key,{\n",
      "        'name' : name,\n",
      "        'phone': phone,\n",
      "        'country':  country,\n",
      "        'join': join_date.isoformat(),\n",
      "        'doctype': 'user'\n",
      "    })\n",
      "    return key\n",
      "\n",
      "CU.clean_all_docs()\n",
      "\n",
      "create_user('Eran','+12345','IL',CU.get_random_date())\n",
      "\n"
     ],
     "language": "python",
     "metadata": {},
     "outputs": [
      {
       "output_type": "stream",
       "stream": "stdout",
       "text": [
        "cleaned\n"
       ]
      },
      {
       "metadata": {},
       "output_type": "pyout",
       "prompt_number": 11,
       "text": [
        "'user:1'"
       ]
      }
     ],
     "prompt_number": 11
    },
    {
     "cell_type": "code",
     "collapsed": false,
     "input": [
      "pp(bucket.get('user:1').value)"
     ],
     "language": "python",
     "metadata": {},
     "outputs": [
      {
       "output_type": "stream",
       "stream": "stdout",
       "text": [
        "{\n",
        "    \"phone\": \"+12345\", \n",
        "    \"country\": \"IL\", \n",
        "    \"join\": \"2015-06-23\", \n",
        "    \"doctype\": \"user\", \n",
        "    \"name\": \"Eran\"\n",
        "}\n"
       ]
      }
     ],
     "prompt_number": 15
    },
    {
     "cell_type": "code",
     "collapsed": false,
     "input": [
      "create_user('Dani','+123456','GB',CU.get_random_date())"
     ],
     "language": "python",
     "metadata": {},
     "outputs": [
      {
       "metadata": {},
       "output_type": "pyout",
       "prompt_number": 13,
       "text": [
        "'user:2'"
       ]
      }
     ],
     "prompt_number": 13
    },
    {
     "cell_type": "code",
     "collapsed": false,
     "input": [
      "create_user('Dani2','+123456','CA',CU.get_random_date())"
     ],
     "language": "python",
     "metadata": {},
     "outputs": [
      {
       "metadata": {},
       "output_type": "pyout",
       "prompt_number": 14,
       "text": [
        "'user:3'"
       ]
      }
     ],
     "prompt_number": 14
    },
    {
     "cell_type": "code",
     "collapsed": false,
     "input": [
      "bucket.get('user:2').value['phone'] == bucket.get('user:3').value['phone']"
     ],
     "language": "python",
     "metadata": {},
     "outputs": [
      {
       "metadata": {},
       "output_type": "pyout",
       "prompt_number": 16,
       "text": [
        "True"
       ]
      }
     ],
     "prompt_number": 16
    },
    {
     "cell_type": "heading",
     "level": 1,
     "metadata": {},
     "source": [
      "Create users with same phone and fix"
     ]
    },
    {
     "cell_type": "code",
     "collapsed": false,
     "input": [
      "def create_user(name, phone, country, join_date):\n",
      "    key = 'user:%d' % bucket.counter('user_counter',initial=1,delta=1).value\n",
      "    phone_key = 'user_by_phone:%s' % phone\n",
      "    key_by_phone = bucket.get(phone_key,quiet=True).value\n",
      "    if key_by_phone:\n",
      "        print 'User with phone %s already exists' % phone\n",
      "        return key_by_phone\n",
      "    bucket.insert(phone_key,key)\n",
      "    bucket.insert(key,{\n",
      "        'name' : name,\n",
      "        'phone': phone,\n",
      "        'country':  country,\n",
      "        'join': join_date.isoformat(),\n",
      "        'doctype': 'user'\n",
      "    })\n",
      "    \n",
      "    return key"
     ],
     "language": "python",
     "metadata": {},
     "outputs": [],
     "prompt_number": 21
    },
    {
     "cell_type": "code",
     "collapsed": false,
     "input": [
      "create_user('eran1','+234568','IL',CU.get_random_date())"
     ],
     "language": "python",
     "metadata": {},
     "outputs": [
      {
       "metadata": {},
       "output_type": "pyout",
       "prompt_number": 22,
       "text": [
        "'user:6'"
       ]
      }
     ],
     "prompt_number": 22
    },
    {
     "cell_type": "code",
     "collapsed": false,
     "input": [
      "create_user('eran2','+234568','IL',CU.get_random_date())"
     ],
     "language": "python",
     "metadata": {},
     "outputs": [
      {
       "output_type": "stream",
       "stream": "stdout",
       "text": [
        "User with phone +234568 already exists\n"
       ]
      },
      {
       "metadata": {},
       "output_type": "pyout",
       "prompt_number": 23,
       "text": [
        "u'user:6'"
       ]
      }
     ],
     "prompt_number": 23
    },
    {
     "cell_type": "heading",
     "level": 1,
     "metadata": {},
     "source": [
      "Create Chat"
     ]
    },
    {
     "cell_type": "code",
     "collapsed": false,
     "input": [
      "def create_chat(user_key, name):\n",
      "    chat_key = 'chat:%d' % bucket.counter('chat_counter',initial=1,delta=1).value\n",
      "    bucket.insert(chat_key,{\n",
      "        'name': name,\n",
      "        'members': [user_key],\n",
      "        'doctype': 'chat'\n",
      "    })\n",
      "    return chat_key\n"
     ],
     "language": "python",
     "metadata": {},
     "outputs": [],
     "prompt_number": 79
    },
    {
     "cell_type": "code",
     "collapsed": false,
     "input": [
      "create_chat('user:6','Chat1')"
     ],
     "language": "python",
     "metadata": {},
     "outputs": [
      {
       "metadata": {},
       "output_type": "pyout",
       "prompt_number": 49,
       "text": [
        "'chat:4'"
       ]
      }
     ],
     "prompt_number": 49
    },
    {
     "cell_type": "heading",
     "level": 1,
     "metadata": {},
     "source": [
      "Join members to chat"
     ]
    },
    {
     "cell_type": "code",
     "collapsed": false,
     "input": [
      "def join_user_to_chat(user_key,chat_key):\n",
      "    chat = bucket.get(chat_key).value\n",
      "    if user_key not in chat['members']:\n",
      "        chat['members'].append(user_key)\n",
      "        bucket.replace(chat_key,chat)\n",
      "    return chat_key"
     ],
     "language": "python",
     "metadata": {},
     "outputs": [],
     "prompt_number": 80
    },
    {
     "cell_type": "code",
     "collapsed": false,
     "input": [
      "print create_user('eran1','+234569','IL',CU.get_random_date())\n",
      "print create_user('eran2','+234559','IL',CU.get_random_date())\n",
      "print create_user('eran3','+234539','IL',CU.get_random_date())\n"
     ],
     "language": "python",
     "metadata": {},
     "outputs": [
      {
       "output_type": "stream",
       "stream": "stdout",
       "text": [
        "User with phone +234569 already exists\n",
        "user:8\n",
        "User with phone +234559 already exists\n",
        "user:9\n",
        "User with phone +234539 already exists\n",
        "user:10\n"
       ]
      }
     ],
     "prompt_number": 44
    },
    {
     "cell_type": "code",
     "collapsed": false,
     "input": [
      "join_user_to_chat('user:10','chat:4')"
     ],
     "language": "python",
     "metadata": {},
     "outputs": [
      {
       "metadata": {},
       "output_type": "pyout",
       "prompt_number": 56,
       "text": [
        "'chat:4'"
       ]
      }
     ],
     "prompt_number": 56
    },
    {
     "cell_type": "code",
     "collapsed": false,
     "input": [
      "pp(bucket.get('chat:4').value)"
     ],
     "language": "python",
     "metadata": {},
     "outputs": [
      {
       "output_type": "stream",
       "stream": "stdout",
       "text": [
        "{\n",
        "    \"name\": \"Chat1\", \n",
        "    \"members\": [\n",
        "        \"chat:4\", \n",
        "        \"user:8\", \n",
        "        \"user:9\", \n",
        "        \"user:10\"\n",
        "    ], \n",
        "    \"doctype\": \"chat\"\n",
        "}\n"
       ]
      }
     ],
     "prompt_number": 58
    },
    {
     "cell_type": "code",
     "collapsed": false,
     "input": [
      "members = bucket.get('chat:4').value['members']\n",
      "members\n",
      "kv = bucket.get_multi(members)\n",
      "kv\n",
      "for k, r in kv.iteritems():\n",
      "    print k,r.value['name']\n"
     ],
     "language": "python",
     "metadata": {},
     "outputs": [
      {
       "output_type": "stream",
       "stream": "stdout",
       "text": [
        " user:10 eran3\n",
        "user:9 eran2\n",
        "user:8 eran1\n",
        "chat:4 Chat1\n"
       ]
      }
     ],
     "prompt_number": 66
    },
    {
     "cell_type": "heading",
     "level": 1,
     "metadata": {},
     "source": [
      "Join in parallel - example"
     ]
    },
    {
     "cell_type": "code",
     "collapsed": false,
     "input": [
      "def casprotect(func):\n",
      "    def wrap(*args,**kwargs):\n",
      "        for x in xrange(100):\n",
      "            try:\n",
      "                return func(*args,**kwargs)\n",
      "            except KeyExistsError:\n",
      "                if x == 99:\n",
      "                    raise\n",
      "                time.sleep(0.03)\n",
      "    return wrap\n",
      "                \n",
      "@casprotect\n",
      "def join_user_to_chat(user_key,chat_key):\n",
      "    r = bucket.get(chat_key)\n",
      "    chat = r.value\n",
      "    if user_key not in chat['members']:\n",
      "        chat['members'].append(user_key)\n",
      "        bucket.replace(chat_key,chat,cas=r.cas)\n",
      "    return chat_key"
     ],
     "language": "python",
     "metadata": {},
     "outputs": [],
     "prompt_number": 83
    },
    {
     "cell_type": "code",
     "collapsed": true,
     "input": [
      "CU.clean_all_docs()\n",
      "users = []\n",
      "for x in xrange(50):\n",
      "    users.append(create_user('user%d' % x,\n",
      "                             CU.get_random_phone(),\n",
      "                             CU.get_random_country(),\n",
      "                             CU.get_random_date()))\n",
      "print len(users)\n",
      "chat = create_chat(users[0],'Popular chat')\n",
      "print chat\n",
      "\n",
      "import threading\n",
      "threads = []\n",
      "for user in users:\n",
      "    t = threading.Thread(target=join_user_to_chat,args=(user,chat))\n",
      "    t.start()\n",
      "    threads.append(t)\n",
      "for t in threads:\n",
      "    t.join()\n",
      "    \n",
      "pp(bucket.get(chat).value)\n",
      "print len(bucket.get(chat).value['members'])\n",
      "\n"
     ],
     "language": "python",
     "metadata": {},
     "outputs": [
      {
       "output_type": "stream",
       "stream": "stdout",
       "text": [
        "cleaned\n",
        "50\n",
        "chat:1\n",
        "{\n",
        "    \"name\": \"Popular chat\", \n",
        "    \"members\": [\n",
        "        \"user:1\", \n",
        "        \"user:2\", \n",
        "        \"user:3\", \n",
        "        \"user:7\", \n",
        "        \"user:16\", \n",
        "        \"user:18\", \n",
        "        \"user:5\", \n",
        "        \"user:6\", \n",
        "        \"user:4\", \n",
        "        \"user:8\", \n",
        "        \"user:9\", \n",
        "        \"user:10\", \n",
        "        \"user:11\", \n",
        "        \"user:12\", \n",
        "        \"user:13\", \n",
        "        \"user:14\", \n",
        "        \"user:15\", \n",
        "        \"user:19\", \n",
        "        \"user:21\", \n",
        "        \"user:27\", \n",
        "        \"user:35\", \n",
        "        \"user:37\", \n",
        "        \"user:17\", \n",
        "        \"user:20\", \n",
        "        \"user:22\", \n",
        "        \"user:23\", \n",
        "        \"user:25\", \n",
        "        \"user:26\", \n",
        "        \"user:24\", \n",
        "        \"user:29\", \n",
        "        \"user:31\", \n",
        "        \"user:34\", \n",
        "        \"user:33\", \n",
        "        \"user:28\", \n",
        "        \"user:38\", \n",
        "        \"user:39\", \n",
        "        \"user:41\", \n",
        "        \"user:44\", \n",
        "        \"user:49\", \n",
        "        \"user:30\", \n",
        "        \"user:32\", \n",
        "        \"user:40\", \n",
        "        \"user:42\", \n",
        "        \"user:43\", \n",
        "        \"user:45\", \n",
        "        \"user:46\", \n",
        "        \"user:47\", \n",
        "        \"user:50\", \n",
        "        \"user:48\", \n",
        "        \"user:36\"\n",
        "    ], \n",
        "    \"doctype\": \"chat\"\n",
        "}"
       ]
      },
      {
       "output_type": "stream",
       "stream": "stdout",
       "text": [
        "\n",
        "50\n"
       ]
      }
     ],
     "prompt_number": 87
    },
    {
     "cell_type": "code",
     "collapsed": false,
     "input": [],
     "language": "python",
     "metadata": {},
     "outputs": []
    },
    {
     "cell_type": "heading",
     "level": 1,
     "metadata": {},
     "source": [
      "Fix the join"
     ]
    },
    {
     "cell_type": "code",
     "collapsed": false,
     "input": [],
     "language": "python",
     "metadata": {},
     "outputs": [
      {
       "output_type": "stream",
       "stream": "stdout",
       "text": [
        "cleaned\n",
        "Creating users\n",
        "10000"
       ]
      },
      {
       "output_type": "stream",
       "stream": "stdout",
       "text": [
        "\n",
        "Creating chats\n",
        "100\n"
       ]
      }
     ],
     "prompt_number": 110
    },
    {
     "cell_type": "code",
     "collapsed": false,
     "input": [
      "CU.clean_all_docs()\n",
      "users = []\n",
      "for x in xrange(10000):\n",
      "    users.append(create_user('user:%s' % x,CU.get_random_phone(),CU.get_random_country(),CU.get_random_date()))\n",
      "\n",
      "print len(users)\n",
      "\n",
      "users1 = users[0:100]\n",
      "chats = []\n",
      "for idx,u in enumerate(users1):\n",
      "    chats.append(create_chat(u,'chat%s' % idx))\n",
      "    \n",
      "print len(chats)\n",
      "\n",
      "for u in users1:\n",
      "    for c in random.sample(chats,random.randint(5,20)):\n",
      "        join_user_to_chat(u,c)\n",
      "\n",
      "        "
     ],
     "language": "python",
     "metadata": {},
     "outputs": [
      {
       "output_type": "stream",
       "stream": "stdout",
       "text": [
        "cleaned\n",
        "10000"
       ]
      },
      {
       "output_type": "stream",
       "stream": "stdout",
       "text": [
        "\n",
        "100\n"
       ]
      }
     ],
     "prompt_number": 125
    },
    {
     "cell_type": "code",
     "collapsed": false,
     "input": [
      "print bucket.get('chat:3').value"
     ],
     "language": "python",
     "metadata": {},
     "outputs": [
      {
       "output_type": "stream",
       "stream": "stdout",
       "text": [
        "{u'name': u'chat2', u'members': [u'user:3', u'user:6', u'user:8', u'user:24', u'user:37', u'user:46', u'user:51', u'user:56', u'user:60', u'user:63', u'user:74', u'user:83', u'user:97'], u'doctype': u'chat'}\n"
       ]
      }
     ],
     "prompt_number": 127
    },
    {
     "cell_type": "markdown",
     "metadata": {},
     "source": [
      "Questions: \n",
      "-----------\n",
      "* How to find how users by country?\n",
      "* How to find how many user joined in each year and send them message?\n",
      "* How to find how many user joined in each month and send them message?\n",
      "* How to find how many user joined in each day and send them message?"
     ]
    },
    {
     "cell_type": "code",
     "collapsed": false,
     "input": [],
     "language": "python",
     "metadata": {},
     "outputs": []
    }
   ],
   "metadata": {}
  }
 ]
}