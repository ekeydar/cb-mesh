{
 "metadata": {
  "name": "",
  "signature": "sha256:00c63f2455a3027f72c2a730e86c1058281cc5a7de770649bd4111889ac44966"
 },
 "nbformat": 3,
 "nbformat_minor": 0,
 "worksheets": [
  {
   "cells": [
    {
     "cell_type": "markdown",
     "metadata": {},
     "source": [
      "Demo App\n",
      "===\n",
      "\n",
      "User\n",
      "----\n",
      "\n",
      "* name\n",
      "* phone\n",
      "* country\n",
      "* join date\n",
      "\n",
      "phone is unique\n",
      "\n",
      "Chat\n",
      "----\n",
      "* name\n",
      "* members\n",
      "\n",
      "user can create chats and join chats\n"
     ]
    },
    {
     "cell_type": "code",
     "collapsed": false,
     "input": [
      "import code_utils as CU\n",
      "reload(CU)\n",
      "bucket = CU.bucket\n",
      "import time\n",
      "import json\n",
      "import random\n",
      "def pp(o):\n",
      "    print json.dumps(o,indent=4)\n",
      "    \n",
      "from couchbase.exceptions import KeyExistsError\n",
      "    "
     ],
     "language": "python",
     "metadata": {},
     "outputs": [],
     "prompt_number": 1
    },
    {
     "cell_type": "markdown",
     "metadata": {},
     "source": [
      "Some utilies we will be using:\n",
      "-----------------------------\n",
      "<code>CU.clean_all_docs() # cleans all docs </code>\n",
      "\n",
      "<code>CU.get_random_date() # returns random date in the last three years </code>\n",
      "\n",
      "<code>CU.get_random_country() # returns random country code, e.g. IL, GB </code>\n",
      "\n",
      "<code>pp() # to print nice</code>\n",
      "\n",
      "<code>bucket # is the global bucket </code>"
     ]
    },
    {
     "cell_type": "markdown",
     "metadata": {},
     "source": [
      "Create User\n",
      "-----------\n",
      "parameters: name, phone, country, join_data"
     ]
    },
    {
     "cell_type": "code",
     "collapsed": false,
     "input": [],
     "language": "python",
     "metadata": {},
     "outputs": []
    },
    {
     "cell_type": "heading",
     "level": 1,
     "metadata": {},
     "source": [
      "Create users with same phone and fix"
     ]
    },
    {
     "cell_type": "markdown",
     "metadata": {},
     "source": [
      "Create Chat\n",
      "-----------\n",
      "parameters: user_key and name"
     ]
    },
    {
     "cell_type": "heading",
     "level": 1,
     "metadata": {},
     "source": [
      "Join members to chat"
     ]
    },
    {
     "cell_type": "heading",
     "level": 1,
     "metadata": {},
     "source": [
      "Join in parallel - example"
     ]
    },
    {
     "cell_type": "heading",
     "level": 1,
     "metadata": {},
     "source": [
      "Fix the join"
     ]
    },
    {
     "cell_type": "markdown",
     "metadata": {},
     "source": [
      "# script to generate 10000 users and 100 chats for 100 users\n",
      "CU.clean_all_docs()\n",
      "users = []\n",
      "for x in xrange(10000):\n",
      "    users.append(create_user('user:%s' % x,CU.get_random_phone(),CU.get_random_country(),CU.get_random_date()))\n",
      "\n",
      "print len(users)\n",
      "\n",
      "users1 = users[0:100]\n",
      "chats = []\n",
      "for idx,u in enumerate(users1):\n",
      "    chats.append(create_chat(u,'chat%s' % idx))\n",
      "    \n",
      "print len(chats)\n",
      "\n",
      "for u in users1:\n",
      "    for c in random.sample(chats,random.randint(5,20)):\n",
      "        join_user_to_chat(u,c)\n",
      "        "
     ]
    },
    {
     "cell_type": "markdown",
     "metadata": {},
     "source": [
      "Questions: \n",
      "-----------\n",
      "* How to find how users by country?\n",
      "* How to find how many user joined in each year and send them message?\n",
      "* How to find how many user joined in each month and send them message?\n",
      "* How to find how many user joined in each day and send them message?"
     ]
    }
   ],
   "metadata": {}
  }
 ]
}