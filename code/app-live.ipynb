{
 "metadata": {
  "name": "",
  "signature": "sha256:aacd4cfb2cb22753a579864e42c34a42840b20f7b3c5abba83413a482c88b8ee"
 },
 "nbformat": 3,
 "nbformat_minor": 0,
 "worksheets": [
  {
   "cells": [
    {
     "cell_type": "markdown",
     "metadata": {},
     "source": [
      "Demo App\n",
      "===\n",
      "\n",
      "User\n",
      "----\n",
      "\n",
      "* name\n",
      "* phone\n",
      "* country\n",
      "* join date\n",
      "\n",
      "phone is unique\n",
      "\n",
      "Chat\n",
      "----\n",
      "* name\n",
      "* members\n",
      "\n",
      "user can create chats and join chats\n"
     ]
    },
    {
     "cell_type": "code",
     "collapsed": false,
     "input": [
      "import code_utils as CU\n",
      "reload(CU)\n",
      "bucket = CU.bucket\n",
      "import time\n",
      "import json\n",
      "import random\n",
      "def pp(o):\n",
      "    print json.dumps(o,indent=4)\n",
      "    \n",
      "from couchbase.exceptions import KeyExistsError\n",
      "    "
     ],
     "language": "python",
     "metadata": {},
     "outputs": [],
     "prompt_number": 1
    },
    {
     "cell_type": "markdown",
     "metadata": {},
     "source": [
      "Some utilies we will be using:\n",
      "-----------------------------\n",
      "<code>CU.clean_all_docs() # cleans all docs </code>\n",
      "\n",
      "<code>CU.get_random_date() # returns random date in the last three years </code>\n",
      "\n",
      "<code>CU.get_random_country() # returns random country code, e.g. IL, GB </code>\n",
      "\n",
      "<code>pp() # to print nice</code>\n",
      "\n",
      "<code>bucket # is the global bucket </code>"
     ]
    },
    {
     "cell_type": "markdown",
     "metadata": {},
     "source": [
      "Create User\n",
      "-----------\n",
      "parameters: name, phone, country, join_data"
     ]
    },
    {
     "cell_type": "code",
     "collapsed": false,
     "input": [
      "def create_user(name,phone,country,join_date):\n",
      "    user_key = 'user:%d' % bucket.counter('user_counter',initial=1,delta=1).value\n",
      "    print user_key\n",
      "    bucket.insert(user_key,{\n",
      "                    'name': name,\n",
      "                    'phone': phone,\n",
      "                    'country': country,\n",
      "                    'join': join_date.isoformat(),\n",
      "                    'doctype': 'user'\n",
      "                  })\n",
      "    return user_key\n",
      "    \n",
      "create_user('Eran','+1234','IL',CU.get_random_date())"
     ],
     "language": "python",
     "metadata": {},
     "outputs": [
      {
       "output_type": "stream",
       "stream": "stdout",
       "text": [
        "user:4\n"
       ]
      },
      {
       "metadata": {},
       "output_type": "pyout",
       "prompt_number": 7,
       "text": [
        "'user:4'"
       ]
      }
     ],
     "prompt_number": 7
    },
    {
     "cell_type": "code",
     "collapsed": false,
     "input": [
      "bucket.get('user:1').value"
     ],
     "language": "python",
     "metadata": {},
     "outputs": [
      {
       "metadata": {},
       "output_type": "pyout",
       "prompt_number": 4,
       "text": [
        "{u'country': u'IL',\n",
        " u'doctype': u'user',\n",
        " u'join': u'2014-08-24',\n",
        " u'name': u'Eran',\n",
        " u'phone': u'+1234'}"
       ]
      }
     ],
     "prompt_number": 4
    },
    {
     "cell_type": "code",
     "collapsed": false,
     "input": [
      "create_user('Ido','+1234','IL',CU.get_random_date())"
     ],
     "language": "python",
     "metadata": {},
     "outputs": [
      {
       "output_type": "stream",
       "stream": "stdout",
       "text": [
        "user:6\n"
       ]
      },
      {
       "metadata": {},
       "output_type": "pyout",
       "prompt_number": 9,
       "text": [
        "'user:6'"
       ]
      }
     ],
     "prompt_number": 9
    },
    {
     "cell_type": "heading",
     "level": 1,
     "metadata": {},
     "source": [
      "Create users with same phone and fix"
     ]
    },
    {
     "cell_type": "code",
     "collapsed": false,
     "input": [
      "def create_user(name,phone,country,join_date):\n",
      "    user_key = 'user:%d' % bucket.counter('user_counter',initial=1,delta=1).value\n",
      "    phone_key = 'user_by_phone:%s' % phone\n",
      "    phone_user = bucket.get(phone_key,quiet=True).value\n",
      "    if phone_user:\n",
      "        print 'phone already %s exists' % phone\n",
      "        return phone_user\n",
      "    bucket.insert(user_key,{\n",
      "                    'name': name,\n",
      "                    'phone': phone,\n",
      "                    'country': country,\n",
      "                    'join': join_date.isoformat(),\n",
      "                    'doctype': 'user'\n",
      "                  })\n",
      "    bucket.insert(phone_key,user_key)\n",
      "    return user_key"
     ],
     "language": "python",
     "metadata": {},
     "outputs": [],
     "prompt_number": 14
    },
    {
     "cell_type": "code",
     "collapsed": false,
     "input": [
      "create_user('eran','+456','IL',CU.get_random_date())"
     ],
     "language": "python",
     "metadata": {},
     "outputs": [
      {
       "output_type": "stream",
       "stream": "stdout",
       "text": [
        "phone already +456 exists\n"
       ]
      },
      {
       "metadata": {},
       "output_type": "pyout",
       "prompt_number": 15,
       "text": [
        "u'user:7'"
       ]
      }
     ],
     "prompt_number": 15
    },
    {
     "cell_type": "markdown",
     "metadata": {},
     "source": [
      "Create Chat\n",
      "-----------\n",
      "parameters: user_key and name"
     ]
    },
    {
     "cell_type": "code",
     "collapsed": false,
     "input": [
      "def create_chat(user_key,name):\n",
      "    chat_key = 'chat:%d' % bucket.counter('chat_counter',initial=1,delta=1).value\n",
      "    bucket.insert(chat_key,{\n",
      "       'doctype' : 'chat',\n",
      "       'name': name,\n",
      "        'members': [user_key]\n",
      "    })\n",
      "    return chat_key\n",
      "\n",
      "\n"
     ],
     "language": "python",
     "metadata": {},
     "outputs": [],
     "prompt_number": 16
    },
    {
     "cell_type": "code",
     "collapsed": false,
     "input": [
      "create_chat('user:7','My Chat')"
     ],
     "language": "python",
     "metadata": {},
     "outputs": [
      {
       "metadata": {},
       "output_type": "pyout",
       "prompt_number": 17,
       "text": [
        "'chat:1'"
       ]
      }
     ],
     "prompt_number": 17
    },
    {
     "cell_type": "code",
     "collapsed": false,
     "input": [
      "bucket.get('chat:1').value"
     ],
     "language": "python",
     "metadata": {},
     "outputs": [
      {
       "metadata": {},
       "output_type": "pyout",
       "prompt_number": 18,
       "text": [
        "{u'doctype': u'chat', u'members': [u'user:7'], u'name': u'My Chat'}"
       ]
      }
     ],
     "prompt_number": 18
    },
    {
     "cell_type": "heading",
     "level": 1,
     "metadata": {},
     "source": [
      "Join members to chat"
     ]
    },
    {
     "cell_type": "code",
     "collapsed": false,
     "input": [
      "def join_to_chat(user_key,chat_key):\n",
      "    chat = bucket.get(chat_key).value\n",
      "    if user_key not in chat['members']:\n",
      "        chat['members'].append(user_key)\n",
      "    bucket.replace(chat_key,chat)\n",
      "    \n"
     ],
     "language": "python",
     "metadata": {},
     "outputs": [],
     "prompt_number": 19
    },
    {
     "cell_type": "code",
     "collapsed": false,
     "input": [],
     "language": "python",
     "metadata": {},
     "outputs": []
    },
    {
     "cell_type": "code",
     "collapsed": false,
     "input": [
      "create_user('yuval','+1346','IL',CU.get_random_date())"
     ],
     "language": "python",
     "metadata": {},
     "outputs": [
      {
       "metadata": {},
       "output_type": "pyout",
       "prompt_number": 21,
       "text": [
        "'user:11'"
       ]
      }
     ],
     "prompt_number": 21
    },
    {
     "cell_type": "code",
     "collapsed": false,
     "input": [
      "join_to_chat('user:11','chat:1')"
     ],
     "language": "python",
     "metadata": {},
     "outputs": [],
     "prompt_number": 23
    },
    {
     "cell_type": "code",
     "collapsed": false,
     "input": [
      "bucket.get('chat:1').value"
     ],
     "language": "python",
     "metadata": {},
     "outputs": [
      {
       "metadata": {},
       "output_type": "pyout",
       "prompt_number": 24,
       "text": [
        "{u'doctype': u'chat',\n",
        " u'members': [u'user:7', u'user:10', u'user:11'],\n",
        " u'name': u'My Chat'}"
       ]
      }
     ],
     "prompt_number": 24
    },
    {
     "cell_type": "heading",
     "level": 1,
     "metadata": {},
     "source": [
      "Join in parallel - example"
     ]
    },
    {
     "cell_type": "code",
     "collapsed": false,
     "input": [
      "\n",
      "users = []\n",
      "for x in xrange(50):\n",
      "    users.append(create_user('user:%d' % x,CU.get_random_phone(),\n",
      "                             CU.get_random_country(),\n",
      "                             CU.get_random_date()))\n"
     ],
     "language": "python",
     "metadata": {},
     "outputs": [],
     "prompt_number": 27
    },
    {
     "cell_type": "code",
     "collapsed": false,
     "input": [
      "print len(users)"
     ],
     "language": "python",
     "metadata": {},
     "outputs": [
      {
       "output_type": "stream",
       "stream": "stdout",
       "text": [
        "50\n"
       ]
      }
     ],
     "prompt_number": 28
    },
    {
     "cell_type": "code",
     "collapsed": false,
     "input": [
      "create_chat(users[0],'My Chat')"
     ],
     "language": "python",
     "metadata": {},
     "outputs": [
      {
       "metadata": {},
       "output_type": "pyout",
       "prompt_number": 43,
       "text": [
        "'chat:5'"
       ]
      }
     ],
     "prompt_number": 43
    },
    {
     "cell_type": "code",
     "collapsed": true,
     "input": [
      "import threading\n",
      "threads = []\n",
      "for user in users:\n",
      "    t = threading.Thread(target=join_to_chat,args=(user,'chat:5'))\n",
      "    threads.append(t)\n",
      "    t.start()\n",
      "for t in threads:\n",
      "    t.join()\n",
      "    "
     ],
     "language": "python",
     "metadata": {},
     "outputs": [],
     "prompt_number": 44
    },
    {
     "cell_type": "code",
     "collapsed": false,
     "input": [
      "len(bucket.get('chat:5').value['members'])"
     ],
     "language": "python",
     "metadata": {},
     "outputs": [
      {
       "metadata": {},
       "output_type": "pyout",
       "prompt_number": 45,
       "text": [
        "50"
       ]
      }
     ],
     "prompt_number": 45
    },
    {
     "cell_type": "code",
     "collapsed": false,
     "input": [
      "bucket.get('chat:1')"
     ],
     "language": "python",
     "metadata": {},
     "outputs": [
      {
       "metadata": {},
       "output_type": "pyout",
       "prompt_number": 33,
       "text": [
        "ValueResult<RC=0x0, Key=u'chat:1', Value={u'doctype': u'chat', u'members': [u'user:1', u'user:2', u'user:3', u'user:4', u'user:5', u'user:6', u'user:7', u'user:8', u'user:9', u'user:10', u'user:11', u'user:12', u'user:14', u'user:15', u'user:17', u'user:19', u'user:37', u'user:39', u'user:41', u'user:43', u'user:44', u'user:46', u'user:48', u'user:49', u'user:30', u'user:34', u'user:42', u'user:28'], u'name': u'My Chat'}, CAS=0xe27d86639d040000, Flags=0x2000000>"
       ]
      }
     ],
     "prompt_number": 33
    },
    {
     "cell_type": "heading",
     "level": 1,
     "metadata": {},
     "source": [
      "Fix the join"
     ]
    },
    {
     "cell_type": "code",
     "collapsed": false,
     "input": [
      "def casprotect(func):\n",
      "    def wrap(*args,**kwargs):\n",
      "        for x in xrange(100):\n",
      "            try:\n",
      "                return func(*args,**kwargs)\n",
      "            except KeyExistsError:\n",
      "                if x == 99:\n",
      "                    raise\n",
      "                time.sleep(0.03)\n",
      "    return wrap\n",
      "                \n",
      "@casprotect\n",
      "def join_to_chat(user_key,chat_key):\n",
      "    r = bucket.get(chat_key)\n",
      "    chat = r.value\n",
      "    if user_key not in chat['members']:\n",
      "        chat['members'].append(user_key)\n",
      "    bucket.replace(chat_key,chat,cas=r.cas)\n",
      "    "
     ],
     "language": "python",
     "metadata": {},
     "outputs": [],
     "prompt_number": 42
    },
    {
     "cell_type": "markdown",
     "metadata": {},
     "source": [
      "# script to generate 10000 users and 100 chats for 100 users\n",
      "CU.clean_all_docs()\n",
      "users = []\n",
      "for x in xrange(10000):\n",
      "    users.append(create_user('user:%s' % x,CU.get_random_phone(),CU.get_random_country(),CU.get_random_date()))\n",
      "\n",
      "print len(users)\n",
      "\n",
      "users1 = users[0:100]\n",
      "chats = []\n",
      "for idx,u in enumerate(users1):\n",
      "    chats.append(create_chat(u,'chat%s' % idx))\n",
      "    \n",
      "print len(chats)\n",
      "\n",
      "for u in users1:\n",
      "    for c in random.sample(chats,random.randint(5,20)):\n",
      "        join_user_to_chat(u,c)\n",
      "        "
     ]
    },
    {
     "cell_type": "code",
     "collapsed": false,
     "input": [
      "CU.clean_all_docs()\n",
      "users = [] \n",
      "for x in xrange(10000): \n",
      "    users.append(create_user('user:%s' % x,CU.get_random_phone(),CU.get_random_country(),CU.get_random_date()))\n",
      "\n",
      "print len(users)\n",
      "\n",
      "users1 = users[0:100] \n",
      "chats = [] \n",
      "for idx,u in enumerate(users1): \n",
      "    chats.append(create_chat(u,'chat%s' % idx))\n",
      "\n",
      "print len(chats)\n",
      "\n",
      "for u in users1: \n",
      "    for c in random.sample(chats,random.randint(5,20)): \n",
      "        join_to_chat(u,c)"
     ],
     "language": "python",
     "metadata": {},
     "outputs": [
      {
       "output_type": "stream",
       "stream": "stdout",
       "text": [
        "cleaned\n",
        "phone already +95231707 exists"
       ]
      },
      {
       "output_type": "stream",
       "stream": "stdout",
       "text": [
        "\n",
        "10000"
       ]
      },
      {
       "output_type": "stream",
       "stream": "stdout",
       "text": [
        "\n",
        "100\n"
       ]
      }
     ],
     "prompt_number": 47
    },
    {
     "cell_type": "markdown",
     "metadata": {},
     "source": [
      "Questions: \n",
      "-----------\n",
      "* How to find how users by country?\n",
      "* How to find how many user joined in each year and send them message?\n",
      "* How to find how many user joined in each month and send them message?\n",
      "* How to find how many user joined in each day and send them message?"
     ]
    }
   ],
   "metadata": {}
  }
 ]
}