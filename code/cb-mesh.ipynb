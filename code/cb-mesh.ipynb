{
 "metadata": {
  "name": "",
  "signature": "sha256:36e8474f44b2afb8100cb980664d0c5f9c06c94e60f7ba101b295ed6ea1fe160"
 },
 "nbformat": 3,
 "nbformat_minor": 0,
 "worksheets": [
  {
   "cells": [
    {
     "cell_type": "heading",
     "level": 1,
     "metadata": {},
     "source": [
      "Couchbase Demo"
     ]
    },
    {
     "cell_type": "markdown",
     "metadata": {},
     "source": [
      "Preparations\n",
      "------------\n",
      "- install couchbase\n",
      "- create bucket\n",
      "- install couchbase C client\n",
      "- install python library"
     ]
    },
    {
     "cell_type": "code",
     "collapsed": false,
     "input": [],
     "language": "python",
     "metadata": {},
     "outputs": []
    }
   ],
   "metadata": {}
  }
 ]
}