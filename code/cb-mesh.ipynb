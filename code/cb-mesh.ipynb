{
 "metadata": {
  "name": "",
  "signature": "sha256:11eb18e337bce72b8e078243ff238a408ce5e682216772f0c50e9e6925564e44"
 },
 "nbformat": 3,
 "nbformat_minor": 0,
 "worksheets": [
  {
   "cells": [
    {
     "cell_type": "heading",
     "level": 1,
     "metadata": {},
     "source": [
      "Couchbase Demo"
     ]
    },
    {
     "cell_type": "markdown",
     "metadata": {},
     "source": [
      "Preparations\n",
      "------------\n",
      "- install couchbase\n",
      "- create bucket\n",
      "- install couchbase C client\n",
      "- install python library"
     ]
    },
    {
     "cell_type": "markdown",
     "metadata": {},
     "source": [
      "Create a bucket using the web console\n",
      "-------------------------------------\n",
      "- Access http://localhost:8091\n",
      "- Create new bucket\n",
      "- give it a name, configure its size"
     ]
    },
    {
     "cell_type": "markdown",
     "metadata": {},
     "source": [
      "Couchbase Python\n",
      "----------------\n",
      "- new couchbase python library (2.0.2 version). Previous version was 1.2+, some backward incompatible changes\n",
      "- to install\n",
      "<pre><code>\n",
      "pip install couchbase\n",
      "</pre></code>\n",
      "- to start connection, insantiate Bucket object and specify the address using the couchbase:// scheme."
     ]
    },
    {
     "cell_type": "code",
     "collapsed": false,
     "input": [
      "import couchbase.bucket\n",
      "print couchbase.__version__\n",
      "bucket = couchbase.bucket.Bucket('couchbase://localhost/demo')\n",
      "print bucket"
     ],
     "language": "python",
     "metadata": {},
     "outputs": [
      {
       "output_type": "stream",
       "stream": "stdout",
       "text": [
        "2.0.2\n",
        "<couchbase.bucket.Bucket bucket=demo, nodes=['localhost:8091'] at 0x7fab8c070758>\n"
       ]
      }
     ],
     "prompt_number": 1
    },
    {
     "cell_type": "markdown",
     "metadata": {},
     "source": [
      "Basic Write Operations\n",
      "----------------------\n",
      "- set, insert and replace \n",
      "\n",
      "**set** sets a value, no matter if new or old\n",
      "\n",
      "**insert** must be new\n",
      "\n",
      "**replace** must exists"
     ]
    },
    {
     "cell_type": "code",
     "collapsed": false,
     "input": [
      "from IPython.display import display"
     ],
     "language": "python",
     "metadata": {},
     "outputs": [],
     "prompt_number": 16
    },
    {
     "cell_type": "code",
     "collapsed": false,
     "input": [
      "bucket.set(\"key1\",\"hello world\")"
     ],
     "language": "python",
     "metadata": {},
     "outputs": [
      {
       "metadata": {},
       "output_type": "pyout",
       "prompt_number": 7,
       "text": [
        "OperationResult<RC=0x0, Key=u'key1', CAS=0x37669df0bc4c0000>"
       ]
      }
     ],
     "prompt_number": 7
    },
    {
     "cell_type": "code",
     "collapsed": false,
     "input": [
      "bucket.replace(\"key1\",\"hello world2\")"
     ],
     "language": "python",
     "metadata": {},
     "outputs": [
      {
       "metadata": {},
       "output_type": "pyout",
       "prompt_number": 8,
       "text": [
        "OperationResult<RC=0x0, Key=u'key1', CAS=0x7952258bc04c0000>"
       ]
      }
     ],
     "prompt_number": 8
    },
    {
     "cell_type": "code",
     "collapsed": false,
     "input": [
      "# error\n",
      "bucket.insert(\"key1\",\"hello world2\")"
     ],
     "language": "python",
     "metadata": {},
     "outputs": [
      {
       "ename": "_KeyExistsError_0xC (generated, catch KeyExistsError)",
       "evalue": "<Key=u'key1', RC=0xC[The key already exists in the server. If you have supplied a CAS then the key exists with a CAS value different than specified], Operational Error, Results=1, C Source=(src/multiresult.c,309)>",
       "output_type": "pyerr",
       "traceback": [
        "\u001b[1;31m---------------------------------------------------------------------------\u001b[0m\n\u001b[1;31m_KeyExistsError_0xC (generated, catch KeyExistsError)\u001b[0mTraceback (most recent call last)",
        "\u001b[1;32m<ipython-input-9-65d4be773086>\u001b[0m in \u001b[0;36m<module>\u001b[1;34m()\u001b[0m\n\u001b[0;32m      1\u001b[0m \u001b[1;31m# error\u001b[0m\u001b[1;33m\u001b[0m\u001b[1;33m\u001b[0m\u001b[0m\n\u001b[1;32m----> 2\u001b[1;33m \u001b[0mbucket\u001b[0m\u001b[1;33m.\u001b[0m\u001b[0minsert\u001b[0m\u001b[1;33m(\u001b[0m\u001b[1;34m\"key1\"\u001b[0m\u001b[1;33m,\u001b[0m\u001b[1;34m\"hello world2\"\u001b[0m\u001b[1;33m)\u001b[0m\u001b[1;33m\u001b[0m\u001b[0m\n\u001b[0m",
        "\u001b[1;32m/usr/local/lib/python2.7/dist-packages/couchbase/bucket.pyc\u001b[0m in \u001b[0;36minsert\u001b[1;34m(self, key, value, ttl, format, persist_to, replicate_to)\u001b[0m\n\u001b[0;32m    361\u001b[0m         \"\"\"\n\u001b[0;32m    362\u001b[0m         return _Base.insert(self, key, value, ttl=ttl, format=format,\n\u001b[1;32m--> 363\u001b[1;33m                             persist_to=persist_to, replicate_to=replicate_to)\n\u001b[0m\u001b[0;32m    364\u001b[0m \u001b[1;33m\u001b[0m\u001b[0m\n\u001b[0;32m    365\u001b[0m     def replace(self, key, value, cas=0, ttl=0, format=None,\n",
        "\u001b[1;31m_KeyExistsError_0xC (generated, catch KeyExistsError)\u001b[0m: <Key=u'key1', RC=0xC[The key already exists in the server. If you have supplied a CAS then the key exists with a CAS value different than specified], Operational Error, Results=1, C Source=(src/multiresult.c,309)>"
       ]
      }
     ],
     "prompt_number": 9
    },
    {
     "cell_type": "code",
     "collapsed": false,
     "input": [
      "# error\n",
      "bucket.replace(\"nosuchkey\",\"hello world2\")"
     ],
     "language": "python",
     "metadata": {},
     "outputs": [
      {
       "ename": "_NotFoundError_0xD (generated, catch NotFoundError)",
       "evalue": "<Key=u'nosuchkey', RC=0xD[The key does not exist on the server], Operational Error, Results=1, C Source=(src/multiresult.c,309)>",
       "output_type": "pyerr",
       "traceback": [
        "\u001b[1;31m---------------------------------------------------------------------------\u001b[0m\n\u001b[1;31m_NotFoundError_0xD (generated, catch NotFoundError)\u001b[0mTraceback (most recent call last)",
        "\u001b[1;32m<ipython-input-10-5633bb354eae>\u001b[0m in \u001b[0;36m<module>\u001b[1;34m()\u001b[0m\n\u001b[0;32m      1\u001b[0m \u001b[1;31m# error\u001b[0m\u001b[1;33m\u001b[0m\u001b[1;33m\u001b[0m\u001b[0m\n\u001b[1;32m----> 2\u001b[1;33m \u001b[0mbucket\u001b[0m\u001b[1;33m.\u001b[0m\u001b[0mreplace\u001b[0m\u001b[1;33m(\u001b[0m\u001b[1;34m\"nosuchkey\"\u001b[0m\u001b[1;33m,\u001b[0m\u001b[1;34m\"hello world2\"\u001b[0m\u001b[1;33m)\u001b[0m\u001b[1;33m\u001b[0m\u001b[0m\n\u001b[0m",
        "\u001b[1;32m/usr/local/lib/python2.7/dist-packages/couchbase/bucket.pyc\u001b[0m in \u001b[0;36mreplace\u001b[1;34m(self, key, value, cas, ttl, format, persist_to, replicate_to)\u001b[0m\n\u001b[0;32m    375\u001b[0m         \"\"\"\n\u001b[0;32m    376\u001b[0m         return _Base.replace(self, key, value, ttl=ttl, cas=cas, format=format,\n\u001b[1;32m--> 377\u001b[1;33m                              persist_to=persist_to, replicate_to=replicate_to)\n\u001b[0m\u001b[0;32m    378\u001b[0m \u001b[1;33m\u001b[0m\u001b[0m\n\u001b[0;32m    379\u001b[0m     def append(self, key, value, cas=0, format=None,\n",
        "\u001b[1;31m_NotFoundError_0xD (generated, catch NotFoundError)\u001b[0m: <Key=u'nosuchkey', RC=0xD[The key does not exist on the server], Operational Error, Results=1, C Source=(src/multiresult.c,309)>"
       ]
      }
     ],
     "prompt_number": 10
    },
    {
     "cell_type": "markdown",
     "metadata": {},
     "source": [
      "Read\n",
      "----\n",
      "Read is done with get, you can use quiet to supress errors\n"
     ]
    },
    {
     "cell_type": "code",
     "collapsed": false,
     "input": [
      "bucket.set(\"key1\",\"hello\")\n",
      "display(bucket.get(\"key1\"))\n",
      "# to access the value, use the .value\n",
      "display(bucket.get(\"key1\").value)"
     ],
     "language": "python",
     "metadata": {},
     "outputs": [
      {
       "metadata": {},
       "output_type": "display_data",
       "text": [
        "ValueResult<RC=0x0, Key=u'key1', Value=u'hello', CAS=0x627f5218f64c0000, Flags=0x2000000>"
       ]
      },
      {
       "metadata": {},
       "output_type": "display_data",
       "text": [
        "u'hello'"
       ]
      }
     ],
     "prompt_number": 17
    },
    {
     "cell_type": "code",
     "collapsed": false,
     "input": [
      "# if you read value that does not exists, you get an error unless you give quiet\n",
      "bucket.get(\"key2\")"
     ],
     "language": "python",
     "metadata": {},
     "outputs": [
      {
       "ename": "_NotFoundError_0xD (generated, catch NotFoundError)",
       "evalue": "<Key=u'key2', RC=0xD[The key does not exist on the server], Operational Error, Results=1, C Source=(src/multiresult.c,309)>",
       "output_type": "pyerr",
       "traceback": [
        "\u001b[1;31m---------------------------------------------------------------------------\u001b[0m\n\u001b[1;31m_NotFoundError_0xD (generated, catch NotFoundError)\u001b[0mTraceback (most recent call last)",
        "\u001b[1;32m<ipython-input-21-f22f55163891>\u001b[0m in \u001b[0;36m<module>\u001b[1;34m()\u001b[0m\n\u001b[0;32m      1\u001b[0m \u001b[1;31m# if you read value that does not exists, you get an error unless you give quiet\u001b[0m\u001b[1;33m\u001b[0m\u001b[1;33m\u001b[0m\u001b[0m\n\u001b[1;32m----> 2\u001b[1;33m \u001b[0mbucket\u001b[0m\u001b[1;33m.\u001b[0m\u001b[0mget\u001b[0m\u001b[1;33m(\u001b[0m\u001b[1;34m\"key2\"\u001b[0m\u001b[1;33m)\u001b[0m\u001b[1;33m\u001b[0m\u001b[0m\n\u001b[0m\u001b[0;32m      3\u001b[0m \u001b[0mbucket\u001b[0m\u001b[1;33m.\u001b[0m\u001b[0mget\u001b[0m\u001b[1;33m(\u001b[0m\u001b[1;34m\"key2\"\u001b[0m\u001b[1;33m,\u001b[0m\u001b[0mquiet\u001b[0m\u001b[1;33m=\u001b[0m\u001b[0mTrue\u001b[0m\u001b[1;33m)\u001b[0m\u001b[1;33m.\u001b[0m\u001b[0mvalue\u001b[0m \u001b[1;32mis\u001b[0m \u001b[0mNone\u001b[0m\u001b[1;33m\u001b[0m\u001b[0m\n",
        "\u001b[1;32m/usr/local/lib/python2.7/dist-packages/couchbase/bucket.pyc\u001b[0m in \u001b[0;36mget\u001b[1;34m(self, key, ttl, quiet, replica, no_format)\u001b[0m\n\u001b[0;32m    487\u001b[0m \u001b[1;33m\u001b[0m\u001b[0m\n\u001b[0;32m    488\u001b[0m         return _Base.get(self, key, ttl=ttl, quiet=quiet,\n\u001b[1;32m--> 489\u001b[1;33m                          replica=replica, no_format=no_format)\n\u001b[0m\u001b[0;32m    490\u001b[0m \u001b[1;33m\u001b[0m\u001b[0m\n\u001b[0;32m    491\u001b[0m     \u001b[1;32mdef\u001b[0m \u001b[0mtouch\u001b[0m\u001b[1;33m(\u001b[0m\u001b[0mself\u001b[0m\u001b[1;33m,\u001b[0m \u001b[0mkey\u001b[0m\u001b[1;33m,\u001b[0m \u001b[0mttl\u001b[0m\u001b[1;33m=\u001b[0m\u001b[1;36m0\u001b[0m\u001b[1;33m)\u001b[0m\u001b[1;33m:\u001b[0m\u001b[1;33m\u001b[0m\u001b[0m\n",
        "\u001b[1;31m_NotFoundError_0xD (generated, catch NotFoundError)\u001b[0m: <Key=u'key2', RC=0xD[The key does not exist on the server], Operational Error, Results=1, C Source=(src/multiresult.c,309)>"
       ]
      }
     ],
     "prompt_number": 21
    },
    {
     "cell_type": "code",
     "collapsed": false,
     "input": [
      "display(bucket.get(\"key2\",quiet=True))\n",
      "display(bucket.get(\"key2\",quiet=True).value)\n"
     ],
     "language": "python",
     "metadata": {},
     "outputs": [
      {
       "metadata": {},
       "output_type": "display_data",
       "text": [
        "ValueResult<RC=0xD[The key does not exist on the server], Key=u'key2', Value=None, CAS=0x0, Flags=0x0>"
       ]
      },
      {
       "metadata": {},
       "output_type": "display_data",
       "text": [
        "None"
       ]
      }
     ],
     "prompt_number": 24
    },
    {
     "cell_type": "markdown",
     "metadata": {},
     "source": [
      "Use Json\n",
      "--------\n",
      "Up to now, couchbase used as simple key-value store, but couchbase supports json. \n",
      "\n",
      "Client knows to convert them automatically to Python dicts, but the main strength is in the **Views** (later....)"
     ]
    },
    {
     "cell_type": "code",
     "collapsed": false,
     "input": [
      "d1 = dict(a=100,b=\"hello world\",c=[1,2,3,4,5],d={'d1':100})\n",
      "bucket.set(\"d1\",d1)"
     ],
     "language": "python",
     "metadata": {},
     "outputs": [
      {
       "metadata": {},
       "output_type": "pyout",
       "prompt_number": 27,
       "text": [
        "OperationResult<RC=0x0, Key=u'd1', CAS=0xb8392ee73b4d0000>"
       ]
      }
     ],
     "prompt_number": 27
    },
    {
     "cell_type": "code",
     "collapsed": false,
     "input": [
      "d2 = bucket.get(\"d1\").value\n",
      "display(d2)\n",
      "display(d2['d']['d1'])\n",
      "type(d2)"
     ],
     "language": "python",
     "metadata": {},
     "outputs": [
      {
       "metadata": {},
       "output_type": "display_data",
       "text": [
        "{u'a': 100, u'b': u'hello world', u'c': [1, 2, 3, 4, 5], u'd': {u'd1': 100}}"
       ]
      },
      {
       "metadata": {},
       "output_type": "display_data",
       "text": [
        "100"
       ]
      },
      {
       "metadata": {},
       "output_type": "pyout",
       "prompt_number": 33,
       "text": [
        "dict"
       ]
      }
     ],
     "prompt_number": 33
    },
    {
     "cell_type": "markdown",
     "metadata": {},
     "source": [
      "No partial document update\n",
      "--------------------------\n",
      "One \"feautre\"/limitation of Couchbase, is that there is no partial updat of documents.\n",
      "\n",
      "So you cannot change just one field of a json document that you pushed, you must read everything and then write back\n",
      "\n",
      "This is unlike, for example, MongoDB\n",
      "\n",
      "The reason, is the preserve the high preformance"
     ]
    },
    {
     "cell_type": "markdown",
     "metadata": {},
     "source": [
      "Let's start real example\n",
      "------------------------\n",
      "\n",
      "User\n",
      "- name\n",
      "- phone number\n",
      "\n",
      "Chat\n",
      "- name\n",
      "- list of user ids\n",
      "\n",
      "To generate id-s we use the **incr** operation, which does atomic increment\n",
      "\n",
      "It is good/common practice that each document will contain document type and version\n"
     ]
    },
    {
     "cell_type": "code",
     "collapsed": false,
     "input": [
      "def clean_users():\n",
      "    \"\"\" clean users is system \"\"\"\n",
      "    bucket.delete(\"user_counter\", quiet=True)\n",
      "    for x in xrange(100):\n",
      "        bucket.delete(\"user:%d\" % x,quiet=True)\n",
      "    for x in xrange(100):\n",
      "        bucket.delete(\"user_by_phone:+9721000%03d\" % x,quiet=True)\n",
      "        \n",
      "def print_nice(d):\n",
      "    \"\"\" prints dict nice using json \"\"\"\n",
      "    import json\n",
      "    print json.dumps(d,indent=4)\n",
      "    \n",
      "def add_user(name,phone):\n",
      "    user = dict()\n",
      "    user_id = bucket.incr(\"user_counter\",initial=1).value\n",
      "    user['name'] = name\n",
      "    user['phone'] = phone\n",
      "    user['id'] = user_id\n",
      "    user['doctype'] = \"user\"\n",
      "    user['docversion'] = 1\n",
      "    key = 'user:%d' % user_id\n",
      "    bucket.insert(key, user)\n",
      "    print 'Added user with key: %s' % key\n",
      "    \n",
      "def get_user(user_id):\n",
      "    return bucket.get('user:%d' % user_id,quiet=True).value\n",
      "\n",
      "clean_users()\n",
      "    \n",
      "add_user(\"Eran Keydar\",  \"+9721000000\")\n",
      "add_user(\"Ido Keydar\",   \"+9721000001\")\n",
      "add_user(\"Yuval Keydar\", \"+9721000002\")\n",
      "add_user(\"Rotem Keydar\", \"+9721000003\")\n",
      "\n",
      "print_nice(get_user(3))\n",
      "\n"
     ],
     "language": "python",
     "metadata": {},
     "outputs": [
      {
       "output_type": "stream",
       "stream": "stdout",
       "text": [
        "Added user with key: user:1\n",
        "Added user with key: user:2\n",
        "Added user with key: user:3\n",
        "Added user with key: user:4\n",
        "{\n",
        "    \"id\": 3, \n",
        "    \"phone\": \"+9721000002\", \n",
        "    \"docversion\": 1, \n",
        "    \"doctype\": \"user\", \n",
        "    \"name\": \"Yuval Keydar\"\n",
        "}\n"
       ]
      }
     ],
     "prompt_number": 28
    },
    {
     "cell_type": "markdown",
     "metadata": {},
     "source": [
      "### Detect existing users\n",
      "But what if we try to add the same user twice, we will create two users with the same phone number?\n",
      "### Solution\n",
      "We create extra key, to save user by phone\n"
     ]
    },
    {
     "cell_type": "code",
     "collapsed": false,
     "input": [
      "def get_user_by_phone(phone):\n",
      "    user_id = bucket.get('user_by_phone:%s' % phone, quiet=True).value\n",
      "    if user_id:\n",
      "        return get_user(user_id)\n",
      "    return None\n",
      "\n",
      "def add_user(name,phone):\n",
      "    user = dict()\n",
      "    existing_user = get_user_by_phone(phone)\n",
      "    if existing_user:\n",
      "        print 'User %s exists' % name\n",
      "        return\n",
      "    user_id = bucket.incr(\"user_counter\",initial=1).value\n",
      "    user['name'] = name\n",
      "    user['phone'] = phone\n",
      "    user['id'] = user_id\n",
      "    user['doctype'] = \"user\"\n",
      "    user['docversion'] = 1\n",
      "    key = 'user:%d' % user_id\n",
      "    bucket.insert(key, user)\n",
      "    bucket.insert('user_by_phone:%s' % user['phone'],user_id)\n",
      "    print 'Added user with key: %s' % key\n",
      "    \n",
      "clean_users()\n",
      "add_user(\"Eran Keydar\",  \"+9721000000\")\n",
      "add_user(\"Ido Keydar\",   \"+9721000001\")\n",
      "add_user(\"Yuval Keydar\", \"+9721000002\")\n",
      "add_user(\"Rotem Keydar\", \"+9721000003\")\n",
      "add_user(\"Again Keydar\", \"+9721000003\")"
     ],
     "language": "python",
     "metadata": {},
     "outputs": [
      {
       "output_type": "stream",
       "stream": "stdout",
       "text": [
        "Added user with key: user:1\n",
        "Added user with key: user:2\n",
        "Added user with key: user:3\n",
        "Added user with key: user:4\n",
        "User Again Keydar exists\n"
       ]
      }
     ],
     "prompt_number": 31
    }
   ],
   "metadata": {}
  }
 ]
}