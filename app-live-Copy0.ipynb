{
 "metadata": {
  "name": "",
  "signature": "sha256:19c7016d535b2c9f06c895615c5245b52c7617c19373ecc479cb6331019c1ee0"
 },
 "nbformat": 3,
 "nbformat_minor": 0,
 "worksheets": [
  {
   "cells": [
    {
     "cell_type": "markdown",
     "metadata": {},
     "source": [
      "Demo App\n",
      "===\n",
      "\n",
      "User\n",
      "----\n",
      "\n",
      "* name\n",
      "* country\n",
      "* phone\n",
      "* join date\n",
      "\n",
      "phone is unique\n",
      "\n",
      "key for users is user:100\n",
      "\n",
      "Chat Group\n",
      "----------\n",
      "* name\n",
      "* members\n",
      "\n",
      "user can create chats and join chats\n",
      "\n",
      "key for chat is chat:200\n"
     ]
    },
    {
     "cell_type": "code",
     "collapsed": false,
     "input": [
      "import code_utils as CU\n",
      "reload(CU)\n",
      "bucket = CU.bucket\n",
      "import time\n",
      "import json\n",
      "def pp(o):\n",
      "    print json.dumps(o,indent=4)\n",
      "    "
     ],
     "language": "python",
     "metadata": {},
     "outputs": [
      {
       "ename": "ImportError",
       "evalue": "cannot import name Bucket",
       "output_type": "pyerr",
       "traceback": [
        "\u001b[1;31m---------------------------------------------------------------------------\u001b[0m\n\u001b[1;31mImportError\u001b[0m                               Traceback (most recent call last)",
        "\u001b[1;32m<ipython-input-9-3f4934076781>\u001b[0m in \u001b[0;36m<module>\u001b[1;34m()\u001b[0m\n\u001b[1;32m----> 1\u001b[1;33m \u001b[1;32mimport\u001b[0m \u001b[0mcode_utils\u001b[0m \u001b[1;32mas\u001b[0m \u001b[0mCU\u001b[0m\u001b[1;33m\u001b[0m\u001b[0m\n\u001b[0m\u001b[0;32m      2\u001b[0m \u001b[0mreload\u001b[0m\u001b[1;33m(\u001b[0m\u001b[0mCU\u001b[0m\u001b[1;33m)\u001b[0m\u001b[1;33m\u001b[0m\u001b[0m\n\u001b[0;32m      3\u001b[0m \u001b[0mbucket\u001b[0m \u001b[1;33m=\u001b[0m \u001b[0mCU\u001b[0m\u001b[1;33m.\u001b[0m\u001b[0mbucket\u001b[0m\u001b[1;33m\u001b[0m\u001b[0m\n\u001b[0;32m      4\u001b[0m \u001b[1;32mimport\u001b[0m \u001b[0mtime\u001b[0m\u001b[1;33m\u001b[0m\u001b[0m\n\u001b[0;32m      5\u001b[0m \u001b[1;32mimport\u001b[0m \u001b[0mjson\u001b[0m\u001b[1;33m\u001b[0m\u001b[0m\n",
        "\u001b[1;32m/home/eran/work/cb-mesh/code/code_utils.py\u001b[0m in \u001b[0;36m<module>\u001b[1;34m()\u001b[0m\n\u001b[0;32m      1\u001b[0m \u001b[1;32mimport\u001b[0m \u001b[0mwarnings\u001b[0m\u001b[1;33m\u001b[0m\u001b[0m\n\u001b[0;32m      2\u001b[0m \u001b[0mwarnings\u001b[0m\u001b[1;33m.\u001b[0m\u001b[0mfilterwarnings\u001b[0m\u001b[1;33m(\u001b[0m\u001b[1;34m'error'\u001b[0m\u001b[1;33m,\u001b[0m\u001b[0mcategory\u001b[0m\u001b[1;33m=\u001b[0m\u001b[0mDeprecationWarning\u001b[0m\u001b[1;33m)\u001b[0m\u001b[1;33m\u001b[0m\u001b[0m\n\u001b[1;32m----> 3\u001b[1;33m \u001b[1;32mfrom\u001b[0m \u001b[0mcouchbase\u001b[0m\u001b[1;33m.\u001b[0m\u001b[0mbucket\u001b[0m \u001b[1;32mimport\u001b[0m \u001b[0mBucket\u001b[0m\u001b[1;33m,\u001b[0m\u001b[0mLOCKMODE_WAIT\u001b[0m\u001b[1;33m\u001b[0m\u001b[0m\n\u001b[0m\u001b[0;32m      4\u001b[0m \u001b[1;32mfrom\u001b[0m \u001b[0mcouchbase\u001b[0m\u001b[1;33m.\u001b[0m\u001b[0mexceptions\u001b[0m \u001b[1;32mimport\u001b[0m \u001b[0mHTTPError\u001b[0m\u001b[1;33m,\u001b[0m\u001b[0mKeyExistsError\u001b[0m\u001b[1;33m\u001b[0m\u001b[0m\n\u001b[0;32m      5\u001b[0m \u001b[1;32mimport\u001b[0m \u001b[0mjson\u001b[0m\u001b[1;33m\u001b[0m\u001b[0m\n",
        "\u001b[1;32m/usr/local/lib/python2.7/dist-packages/couchbase/bucket.py\u001b[0m in \u001b[0;36m<module>\u001b[1;34m()\u001b[0m\n\u001b[0;32m     19\u001b[0m \u001b[1;32mimport\u001b[0m \u001b[0mcouchbase\u001b[0m\u001b[1;33m.\u001b[0m\u001b[0m_bootstrap\u001b[0m\u001b[1;33m\u001b[0m\u001b[0m\n\u001b[0;32m     20\u001b[0m \u001b[1;32mimport\u001b[0m \u001b[0mcouchbase\u001b[0m\u001b[1;33m.\u001b[0m\u001b[0m_libcouchbase\u001b[0m \u001b[1;32mas\u001b[0m \u001b[0m_LCB\u001b[0m\u001b[1;33m\u001b[0m\u001b[0m\n\u001b[1;32m---> 21\u001b[1;33m \u001b[1;32mfrom\u001b[0m \u001b[0mcouchbase\u001b[0m\u001b[1;33m.\u001b[0m\u001b[0m_libcouchbase\u001b[0m \u001b[1;32mimport\u001b[0m \u001b[0mBucket\u001b[0m \u001b[1;32mas\u001b[0m \u001b[0m_Base\u001b[0m\u001b[1;33m\u001b[0m\u001b[0m\n\u001b[0m\u001b[0;32m     22\u001b[0m \u001b[1;33m\u001b[0m\u001b[0m\n\u001b[0;32m     23\u001b[0m \u001b[1;32mfrom\u001b[0m \u001b[0mcouchbase\u001b[0m\u001b[1;33m.\u001b[0m\u001b[0mexceptions\u001b[0m \u001b[1;32mimport\u001b[0m \u001b[1;33m*\u001b[0m\u001b[1;33m\u001b[0m\u001b[0m\n",
        "\u001b[1;31mImportError\u001b[0m: cannot import name Bucket"
       ]
      }
     ],
     "prompt_number": 9
    },
    {
     "cell_type": "markdown",
     "metadata": {},
     "source": [
      "Some utilies we will be using:\n",
      "-----------------------------\n",
      "<code>CU.clean_all_docs() # cleans all docs </code>\n",
      "\n",
      "<code>CU.get_random_date() # returns random date in the last three years </code>\n",
      "\n",
      "<code>CU.get_random_country() # returns random country code, e.g. IL, GB </code>\n",
      "\n",
      "<code>pp() # to print nice</code>\n",
      "\n",
      "<code>bucket # is the global bucket </code>"
     ]
    },
    {
     "cell_type": "heading",
     "level": 1,
     "metadata": {},
     "source": [
      "Create User"
     ]
    },
    {
     "cell_type": "code",
     "collapsed": false,
     "input": [
      "CU.\n",
      "def create_user(name, country, join_date, verbose=True):\n",
      "    key = 'user:%d' % bucket.counter('user_counter',delta=1, initial=1).value\n",
      "    bucket.insert(key,{\n",
      "        'name': name,\n",
      "        'country': country,\n",
      "        'join_data': join_data.isoformat(),\n",
      "        'doctype': 'user'\n",
      "    })\n",
      "    return key\n"
     ],
     "language": "python",
     "metadata": {},
     "outputs": []
    },
    {
     "cell_type": "heading",
     "level": 1,
     "metadata": {},
     "source": [
      "Create users with same phone and fix"
     ]
    },
    {
     "cell_type": "heading",
     "level": 1,
     "metadata": {},
     "source": [
      "Create Chat"
     ]
    },
    {
     "cell_type": "heading",
     "level": 1,
     "metadata": {},
     "source": [
      "Join members to chat"
     ]
    },
    {
     "cell_type": "heading",
     "level": 1,
     "metadata": {},
     "source": [
      "Join in parallel - example"
     ]
    },
    {
     "cell_type": "heading",
     "level": 1,
     "metadata": {},
     "source": [
      "Fix the join"
     ]
    },
    {
     "cell_type": "markdown",
     "metadata": {},
     "source": [
      "Questions: \n",
      "-----------\n",
      "* How to find how users by country?\n",
      "* How to find how many user joined in each year and send them message?\n",
      "* How to find how many user joined in each month and send them message?\n",
      "* How to find how many user joined in each day and send them message?"
     ]
    }
   ],
   "metadata": {}
  }
 ]
}